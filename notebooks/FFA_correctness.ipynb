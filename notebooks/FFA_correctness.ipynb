{
 "cells": [
  {
   "cell_type": "code",
   "execution_count": 1,
   "metadata": {
    "collapsed": true
   },
   "outputs": [],
   "source": [
    "import numpy as np\n",
    "import matplotlib.pyplot as plt\n",
    "%matplotlib qt5\n",
    "\n",
    "from numpy import pi, log, sin, cos, exp\n",
    "\n",
    "from riptide.libffa import LibFFA, get_snr, downsample\n",
    "from riptide.ffautils import get_period\n",
    "from riptide import ffa_transform_1d, ffa_transform_2d, generate_signal\n",
    "\n",
    "%load_ext autoreload\n",
    "%autoreload 2"
   ]
  },
  {
   "cell_type": "code",
   "execution_count": 4,
   "metadata": {
    "collapsed": true
   },
   "outputs": [],
   "source": [
    "# def generate_signal(nsamp, period, phi0=0.0, ducy=0.01):\n",
    "#     \"\"\" Generate a periodic signal with a von Mises profile.\n",
    "#     Parameters:\n",
    "#     -----------\n",
    "#         nsamp : number of samples to generate\n",
    "#         period: period in number of samples\n",
    "#         phi0  : initial signal phase in periods\n",
    "#         ducy  : duty cycle of the pulse\n",
    "#     \"\"\"\n",
    "#     # von mises parameter\n",
    "#     kappa = log(2.0) / (2.0 * sin(pi*ducy/2.0)**2)\n",
    "    \n",
    "#     phase_radians = (np.arange(nsamp, dtype=float) / period - phi0) * (2 * pi)\n",
    "#     return exp(kappa*(cos(phase_radians) - 1.0))\n",
    "\n",
    "\n",
    "# def ffa_transform(tseries, pnum):\n",
    "#     \"\"\" Transform time series at given (integer) period number \"\"\"\n",
    "#     pnum = int(pnum)\n",
    "#     nsamp = tseries.size\n",
    "#     m = nsamp // pnum\n",
    "#     x = tseries[:m*pnum]\n",
    "#     out = np.zeros(shape=(m, pnum), dtype=np.float32)\n",
    "#     LibFFA.py_transform(\n",
    "#         x.astype(np.float32).reshape(m, pnum),\n",
    "#         m,\n",
    "#         pnum,\n",
    "#         out\n",
    "#         )\n",
    "#     return out\n",
    "\n",
    "\n",
    "# def get_width_trials(b, wmax=0.25, wtsp=1.5):\n",
    "#     \"\"\" Generate the list of width trials \"\"\"\n",
    "#     widths = []\n",
    "#     w = 1\n",
    "#     wmax = max(1, wmax * b)\n",
    "#     while w <= wmax:\n",
    "#         widths.append(w)\n",
    "#         w = max(w + 1, int(w * wtsp))\n",
    "#     return np.asarray(widths)\n",
    "    \n",
    "\n",
    "# def get_snrs(trans, widths, varnoise=1.0, threads=1):\n",
    "#     m, b = trans.shape\n",
    "#     snrs = np.zeros(shape=(m, widths.size), dtype=np.float32)\n",
    "#     LibFFA.get_snr_2d(trans, m, b, widths, widths.size, varnoise, threads, snrs)\n",
    "#     return snrs\n",
    "\n",
    "\n",
    "# def get_period_trials(shift, m, b):\n",
    "#     \"\"\" Compute the exact period trial value associated with a given top-to-bottom shift \"\"\"\n",
    "#     return b + shift*b/(m*b - shift)"
   ]
  },
  {
   "cell_type": "code",
   "execution_count": 2,
   "metadata": {
    "collapsed": true
   },
   "outputs": [],
   "source": [
    "##### REAL DATA\n",
    "fname = '/home/vince/work/pulsars/ffa/J1914+0845.64us.npy'\n",
    "tsamp = 64e-6\n",
    "dsfactor = 4\n",
    "data = np.load(fname)\n",
    "\n",
    "data = data[:data.size//dsfactor * dsfactor].reshape(-1, dsfactor).sum(axis=1)\n",
    "data -= data.mean()\n",
    "data /= data.std()\n",
    "tsamp *= dsfactor\n",
    "stdnoise = 1.0\n",
    "\n",
    "#### FFA Transform\n",
    "b = 859*2\n",
    "m = data.size // b\n",
    "\n",
    "### Block of data that actually gets transformed\n",
    "s = data[:m*b]"
   ]
  },
  {
   "cell_type": "code",
   "execution_count": 91,
   "metadata": {
    "collapsed": true
   },
   "outputs": [],
   "source": [
    "### ARTIFICIAL DATA\n",
    "b = 200 # bins\n",
    "m = 200 # number of profiles\n",
    "\n",
    "period_offset = 0.502 # value in [0, 1[\n",
    "phi0 = 0.25 # initial phase in number of periods\n",
    "ducy = 0.015\n",
    "amplitude = 5.0\n",
    "stdnoise = 1.0\n",
    "\n",
    "\n",
    "# line index at which the FFA output should peak\n",
    "ffa_lmax_naive = period_offset * m \n",
    "ffa_lmax_true = period_offset * m * b / (b + period_offset) \n",
    "\n",
    "# column index at which the FFA output should peak\n",
    "ffa_cmax = phi0 * b \n",
    "\n",
    "#### Build von Mises pulse train\n",
    "s = generate_signal(m*b, b + period_offset, phi0=phi0, ducy=ducy, amplitude=amplitude, stdnoise=stdnoise)\n",
    "s -= s.mean()"
   ]
  },
  {
   "cell_type": "code",
   "execution_count": 92,
   "metadata": {
    "collapsed": true
   },
   "outputs": [],
   "source": [
    "#### FFA Transform\n",
    "out = ffa_transform_1d(s, b)\n",
    "\n",
    "### Compute S/N\n",
    "snrs, widths = get_snr(out, stdnoise=stdnoise*m**0.5)"
   ]
  },
  {
   "cell_type": "code",
   "execution_count": 93,
   "metadata": {
    "collapsed": true
   },
   "outputs": [],
   "source": [
    "### Input and its FFA transform\n",
    "plt.figure(figsize=(8,4), dpi=250)\n",
    "plt.subplot(121)\n",
    "plt.imshow(s.reshape(m, b), cmap=plt.cm.Greys, aspect='auto')\n",
    "plt.xlabel('Phase bin')\n",
    "plt.ylabel('Profile index')\n",
    "plt.title('Input Data', fontsize=14)\n",
    "#plt.grid(linestyle=':')\n",
    "\n",
    "plt.subplot(122)\n",
    "plt.imshow(out, cmap=plt.cm.Greys, aspect='auto')\n",
    "#plt.plot(ffa_cmax, ffa_lmax_naive, 'rx', markersize=10)\n",
    "#plt.plot(ffa_cmax, ffa_lmax_true, 'gx', markersize=10)\n",
    "plt.xlabel('Phase bin')\n",
    "plt.ylabel('Shift')\n",
    "plt.title('Folding Transform', fontsize=14)\n",
    "#plt.grid(linestyle=':')\n",
    "\n",
    "plt.tight_layout()\n",
    "plt.show()"
   ]
  },
  {
   "cell_type": "code",
   "execution_count": 15,
   "metadata": {
    "collapsed": true
   },
   "outputs": [],
   "source": [
    "plt.figure(figsize=(12,12), dpi=150)\n",
    "plt.subplot(311)\n",
    "plt.imshow(out.T, cmap=plt.cm.Greys, aspect='auto')\n",
    "plt.ylabel('Phase bin')\n",
    "plt.xlabel('Shift')\n",
    "plt.grid(linestyle=':')\n",
    "\n",
    "plt.subplot(312)\n",
    "plt.imshow(snrs.T, aspect='auto')\n",
    "plt.yticks(range(widths.size), widths, fontsize=12)\n",
    "plt.xlabel('Shift')\n",
    "plt.ylabel('Boxcar width trial (bins)')\n",
    "plt.grid(linestyle=':')\n",
    "plt.tight_layout()\n",
    "\n",
    "plt.subplot(313)\n",
    "plt.plot(snrs, linestyle=':', linewidth=0.8)\n",
    "plt.plot(snrs.max(axis=1), color='k', linewidth=1.5)\n",
    "plt.xlabel('Shift')\n",
    "plt.ylabel('Best S/N')\n",
    "plt.xlim(-0.5, m-0.5)\n",
    "plt.grid(linestyle=':')\n",
    "plt.tight_layout()\n",
    "plt.show()\n",
    "\n",
    "\n",
    "ibest = snrs.max(axis=1).argmax()\n",
    "plt.figure(figsize=(8,4), dpi=150)\n",
    "plt.plot(out[ibest] / stdnoise / m**0.5, linewidth=1.0)\n",
    "plt.xlabel('Phase bin')\n",
    "plt.ylabel('Normalized amplitude')\n",
    "plt.title('Best Folded Profile')\n",
    "plt.xlim(0, b-1)\n",
    "plt.grid(linestyle=':')\n",
    "plt.tight_layout()\n",
    "plt.show()\n",
    "\n",
    "\n",
    "# ### Period trials\n",
    "# shifts = np.arange(m)\n",
    "# period_trials = get_period_trials(shifts, m, b)\n",
    "\n",
    "# plt.figure(figsize=(6, 4.5), dpi=150)\n",
    "# plt.plot(shifts, period_trials - period_trials[0])\n",
    "# plt.xlabel('Shift (bins)')\n",
    "# plt.xlim(0, m-1)\n",
    "\n",
    "# plt.ylabel('Period Trial - %d (bins)' % b)\n",
    "# plt.ylim(0.0, period_trials[-1] - period_trials[0])\n",
    "# plt.grid()\n",
    "# plt.tight_layout()\n",
    "# plt.show()"
   ]
  },
  {
   "cell_type": "code",
   "execution_count": 29,
   "metadata": {
    "collapsed": true
   },
   "outputs": [],
   "source": [
    "### S/N BENCHMARK RESULTS\n",
    "\n",
    "# 8192 x 512b input, runtimes in ms, FFA: 20.2ms\n",
    "# threads, runtime, speedup\n",
    "# 1 14.7 \n",
    "# 2 7.41  1.98\n",
    "# 3 5.07  2.90\n",
    "# 4 4.1   3.58\n",
    "# 6 4.04  3.63\n",
    "# 8 3.58  4.11\n",
    "# tSNR / tFFA (1 thread) = 0.72\n",
    "\n",
    "\n",
    "# 1024 x 256b input, runtimes in us, FFA: 719us\n",
    "# threads, runtime, speedup\n",
    "# 1 936 \n",
    "# 2 481 1.94\n",
    "# 3 333 2.81 \n",
    "# 4 276 3.39 \n",
    "# 6 288 \n",
    "# 8 256\n",
    "# tSNR / tFFA (1 thread) = 1.30\n",
    "\n",
    "\n",
    "# 256 x 1024b input, runtimes in us, FFA: 528us\n",
    "# threads, runtime, speedup\n",
    "# 1 1040\n",
    "# 2 533  1.95\n",
    "# 3 377  2.76\n",
    "# 4 298  3.48\n",
    "# 6 296\n",
    "# 8 290\n",
    "# tSNR / tFFA (1 thread) = 1.97"
   ]
  },
  {
   "cell_type": "code",
   "execution_count": null,
   "metadata": {
    "collapsed": true
   },
   "outputs": [],
   "source": [
    "4.20135042922265e-07"
   ]
  }
 ],
 "metadata": {
  "anaconda-cloud": {},
  "kernelspec": {
   "display_name": "Python [default]",
   "language": "python",
   "name": "python3"
  },
  "language_info": {
   "codemirror_mode": {
    "name": "ipython",
    "version": 3
   },
   "file_extension": ".py",
   "mimetype": "text/x-python",
   "name": "python",
   "nbconvert_exporter": "python",
   "pygments_lexer": "ipython3",
   "version": "3.5.4"
  }
 },
 "nbformat": 4,
 "nbformat_minor": 2
}
