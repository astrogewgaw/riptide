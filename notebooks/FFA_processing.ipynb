{
 "cells": [
  {
   "cell_type": "code",
   "execution_count": 1,
   "metadata": {
    "collapsed": true
   },
   "outputs": [],
   "source": [
    "from timeit import default_timer\n",
    "\n",
    "import numpy as np\n",
    "import matplotlib.pyplot as plt\n",
    "%matplotlib qt5\n",
    "\n",
    "from numpy import ceil\n",
    "import pandas\n",
    "\n",
    "from riptide import TimeSeries, ffa_search, generate_signal, ffa_transform_2d, downsample\n",
    "from riptide.libffa import get_snr\n",
    "\n",
    "%load_ext autoreload\n",
    "%autoreload 2"
   ]
  },
  {
   "cell_type": "markdown",
   "metadata": {},
   "source": [
    "Data we want:\n",
    "- name\n",
    "- coordinates\n",
    "- dm\n",
    "- start_time\n",
    "- frequency band (low, high, df)\n",
    "- tsamp\n",
    "- nsamp\n"
   ]
  },
  {
   "cell_type": "code",
   "execution_count": 2,
   "metadata": {
    "collapsed": true
   },
   "outputs": [],
   "source": [
    "def fold(tseries, period, bins=250):\n",
    "    bins = int(bins)\n",
    "    period = float(period)\n",
    "    dsfactor = (period / bins) / tseries.tsamp\n",
    "    ts = tseries.downsample(dsfactor)\n",
    "    npulses = ts.nsamp // bins\n",
    "    return ts.data[:npulses*bins].reshape(npulses, bins)"
   ]
  },
  {
   "cell_type": "code",
   "execution_count": 7,
   "metadata": {},
   "outputs": [
    {
     "name": "stdout",
     "output_type": "stream",
     "text": [
      "TimeSeries {nsamp = 8754411, tsamp = 6.4000e-05, tobs = 560.282}\n"
     ]
    }
   ],
   "source": [
    "#data = np.load('/home/vmorello/work/pulsar_raw_data/J1914+0845.64us.npy')\n",
    "#data = np.fromfile('/home/vmorello/work/presto_datfiles/J1921-0459_DM100.00.dat', dtype=np.float32)\n",
    "#time_series = TimeSeries.from_npy('/home/vmorello/work/pulsar_raw_data/J1914+0845.64us.npy', tsamp=64e-6)\n",
    "#time_series = TimeSeries.from_presto_inf('/home/vmorello/work/slowpoke/guppi_57956_Cent_0001_0001_DM950.00.inf')\n",
    "\n",
    "\n",
    "# nsamp = 2**23\n",
    "# tsamp = 64e-6\n",
    "# period = 564.788e-3\n",
    "# time_series = TimeSeries(\n",
    "#     generate_signal(nsamp, period/tsamp, phi0=0.5, ducy=0.04), tsamp\n",
    "#     )\n",
    "\n",
    "time_series = TimeSeries.from_presto_inf('/home/vince/work/pulsars/presto_time_series/J1855+0307_DM400.00.inf')\n",
    "#time_series.data[:500] += 40.0\n",
    "print(time_series)"
   ]
  },
  {
   "cell_type": "code",
   "execution_count": 17,
   "metadata": {},
   "outputs": [
    {
     "name": "stdout",
     "output_type": "stream",
     "text": [
      "1.0544979180049268\n"
     ]
    }
   ],
   "source": [
    "start = default_timer()\n",
    "ts, plan, pgram = ffa_search(time_series, period_min=0.5, period_max=60.0, bins_min=480, bins_max=520, threads=4, rmed_width=4.0)\n",
    "end = default_timer()\n",
    "print(end - start)\n",
    "#pgram.display()"
   ]
  },
  {
   "cell_type": "code",
   "execution_count": 18,
   "metadata": {},
   "outputs": [
    {
     "data": {
      "text/plain": [
       "553543"
      ]
     },
     "execution_count": 18,
     "metadata": {},
     "output_type": "execute_result"
    }
   ],
   "source": [
    "pgram.periods.size"
   ]
  },
  {
   "cell_type": "code",
   "execution_count": 11,
   "metadata": {},
   "outputs": [],
   "source": [
    "time_series = TimeSeries.from_presto_inf('/home/vince/work/pulsars/presto_time_series/J1855+0307_DM400.00.inf')\n",
    "\n",
    "ts, plan, pgram = ffa_search(time_series, period_min=0.4, period_max=1.8, bins_min=480, bins_max=520, threads=4)\n",
    "\n",
    "pgram.display()"
   ]
  },
  {
   "cell_type": "code",
   "execution_count": 55,
   "metadata": {
    "collapsed": true
   },
   "outputs": [],
   "source": [
    "plt.figure(figsize=(18, 5))\n",
    "plt.plot(pgram.periods, pgram.snrs.max(1), marker='o', markersize=2, alpha=0.5)\n",
    "plt.xlim(0.4, pgram.periods[-1])\n",
    "plt.grid()\n",
    "plt.xlabel('Trial Period (s)', fontsize=20)\n",
    "plt.ylabel('Best S/N', fontsize=20)\n",
    "plt.xticks(fontsize=18)\n",
    "plt.yticks(fontsize=18)\n",
    "plt.tight_layout()\n",
    "plt.show()"
   ]
  },
  {
   "cell_type": "code",
   "execution_count": 7,
   "metadata": {},
   "outputs": [
    {
     "data": {
      "text/plain": [
       "Number of samples  : 8754411\n",
       "Sampling time      : 6.400000e-05\n",
       "\n",
       "Initial downsampling factor: 26.041667\n",
       "Num. samples after initial downsampling : 336169\n",
       "Sampling time after initial downsampling: 1.666667e-03\n",
       "\n",
       "Width trials (bins): 1, 2, 3, 4, 6, 9, 13, 19, 28, 42\n",
       "\n",
       "    dsfactor     tsamp  bins_min  bins_max  period_min  period_max\n",
       "0   1.000000  0.001667       240       260    0.400000    0.433333\n",
       "1   1.083333  0.001806       240       260    0.433333    0.469444\n",
       "2   1.173611  0.001956       240       260    0.469444    0.508565\n",
       "3   1.271412  0.002119       240       260    0.508565    0.550945\n",
       "4   1.377363  0.002296       240       260    0.550945    0.596857\n",
       "5   1.492143  0.002487       240       260    0.596857    0.646595\n",
       "6   1.616489  0.002694       240       260    0.646595    0.700478\n",
       "7   1.751196  0.002919       240       260    0.700478    0.758852\n",
       "8   1.897129  0.003162       240       260    0.758852    0.822089\n",
       "9   2.055223  0.003425       240       260    0.822089    0.890597\n",
       "10  2.226492  0.003711       240       260    0.890597    0.964813\n",
       "11  2.412033  0.004020       240       260    0.964813    1.045214\n",
       "12  2.613035  0.004355       240       260    1.045214    1.132315\n",
       "13  2.830788  0.004718       240       260    1.132315    1.226675\n",
       "14  3.066687  0.005111       240       260    1.226675    1.328898\n",
       "15  3.322245  0.005537       240       260    1.328898    1.439639\n",
       "16  3.599098  0.005998       240       260    1.439639    1.559609\n",
       "17  3.899023  0.006498       240       260    1.559609    1.689577\n",
       "18  4.223942  0.007040       240       260    1.689577    1.830375\n",
       "19  4.575937  0.007627       240       260    1.830375    1.982906\n",
       "20  4.957265  0.008262       240       243    1.982906    2.007692"
      ]
     },
     "execution_count": 7,
     "metadata": {},
     "output_type": "execute_result"
    }
   ],
   "source": [
    "plan"
   ]
  },
  {
   "cell_type": "code",
   "execution_count": 39,
   "metadata": {},
   "outputs": [],
   "source": [
    "bins = 4000\n",
    "subints = fold(time_series.deredden(8.0), 12.1216, bins=bins)\n",
    "#transform = ffa_transform_2d(subints)\n",
    "\n",
    "#subints = subints.reshape(-1, 100, bins).sum(axis=1)\n",
    "\n",
    "plt.figure(figsize=(12, 8), dpi=200)\n",
    "plt.subplot(211)\n",
    "plt.imshow(subints, cmap=plt.cm.Greys, aspect='auto')\n",
    "\n",
    "plt.subplot(212)\n",
    "plt.plot(subints.sum(0))\n",
    "plt.xlim(0, bins)\n",
    "plt.tight_layout()\n",
    "plt.show()"
   ]
  },
  {
   "cell_type": "code",
   "execution_count": 32,
   "metadata": {
    "collapsed": true
   },
   "outputs": [],
   "source": [
    "plt.figure(figsize=(24, 10), dpi=150)\n",
    "\n",
    "plt.plot(subints.var(0))\n",
    "\n",
    "plt.xlim(0, bins)\n",
    "plt.tight_layout()\n",
    "plt.show()"
   ]
  },
  {
   "cell_type": "code",
   "execution_count": 61,
   "metadata": {},
   "outputs": [
    {
     "data": {
      "text/plain": [
       "(4555, 240)"
      ]
     },
     "execution_count": 61,
     "metadata": {},
     "output_type": "execute_result"
    }
   ],
   "source": [
    "subints.shape #.reshape(-1, 68, 512).sum(1).shape"
   ]
  },
  {
   "cell_type": "code",
   "execution_count": 35,
   "metadata": {},
   "outputs": [
    {
     "name": "stdout",
     "output_type": "stream",
     "text": [
      "num_trials = 396118\n"
     ]
    }
   ],
   "source": [
    "from riptide.ffautils import get_period\n",
    "\n",
    "# def num_trials(plan):\n",
    "#     num = 0\n",
    "#     for istep, step in plan.steps.iterrows():\n",
    "#         ds = step.dsfactor\n",
    "#         ns = int(plan.nsamp / ds)\n",
    "#         for b in range(int(step.bins_min), int(step.bins_max)):\n",
    "#             num += ns // b\n",
    "#     return num\n",
    "\n",
    "\n",
    "def num_trials(plan):\n",
    "    num = 0\n",
    "    for istep, step in plan.steps.iterrows():\n",
    "        ds = step.dsfactor\n",
    "        ns = int(plan.nsamp / ds)\n",
    "        b = np.arange(int(step.bins_min), int(step.bins_max))\n",
    "        num += (ns // b).sum()\n",
    "    return num\n",
    "\n",
    "\n",
    "def period_trials(plan):\n",
    "    num = 0\n",
    "    b = []\n",
    "    m = []\n",
    "    for istep, step in plan.steps.iterrows():\n",
    "        ds = step.dsfactor\n",
    "        ns = int(plan.nsamp / ds)\n",
    "        bins = np.arange(int(step.bins_min), int(step.bins_max))\n",
    "        b.append(bins)\n",
    "        m.append(ns // bins)\n",
    "    return np.concatenate(m), np.concatenate(b)\n",
    "\n",
    "\n",
    "def period_trials(plan):\n",
    "    periods = []\n",
    "    for istep, step in plan.steps.iterrows():\n",
    "        ds = step.dsfactor\n",
    "        ns = int(plan.nsamp / ds)\n",
    "        bins_range = np.arange(int(step.bins_min), int(step.bins_max))\n",
    "        nprofs = ns // bins_range\n",
    "        \n",
    "        for m, b in zip(nprofs, bins_range):\n",
    "            periods.append( ds * get_period(np.arange(m), m, b) )\n",
    "            \n",
    "    return np.concatenate(periods)\n",
    "            \n",
    "        \n",
    "# Input arrays \n",
    "dsfactors = plan.steps.dsfactor.as_matrix()\n",
    "bins_min = plan.steps.bins_min.as_matrix()\n",
    "bins_max = plan.steps.bins_max.as_matrix()\n",
    "\n",
    "# Output arrays\n",
    "nt = num_trials(plan)\n",
    "threads = 1\n",
    "periods = np.zeros(nt, dtype=np.float32)\n",
    "snrs = np.zeros(nt * plan.widths.size, dtype=np.float32)\n",
    "\n",
    "print('num_trials =', nt)\n",
    "\n",
    "LibFFA.py_periodogram(\n",
    "    data, data.size, \n",
    "    dsfactors, bins_min, bins_max, dsfactors.size, \n",
    "    plan.widths, plan.widths.size,\n",
    "    threads,\n",
    "    periods,\n",
    "    snrs\n",
    "    )\n",
    "\n",
    "snrs = snrs.reshape(nt, plan.widths.size)"
   ]
  },
  {
   "cell_type": "code",
   "execution_count": 36,
   "metadata": {
    "collapsed": true
   },
   "outputs": [],
   "source": [
    "plt.plot(periods * tsamp, snrs.max(axis=1), 'k.', markersize=1)\n",
    "plt.grid()"
   ]
  },
  {
   "cell_type": "code",
   "execution_count": 6,
   "metadata": {},
   "outputs": [
    {
     "data": {
      "text/plain": [
       "(722839, 17)"
      ]
     },
     "execution_count": 6,
     "metadata": {},
     "output_type": "execute_result"
    }
   ],
   "source": [
    "snrs.shape"
   ]
  },
  {
   "cell_type": "code",
   "execution_count": 33,
   "metadata": {},
   "outputs": [
    {
     "name": "stdout",
     "output_type": "stream",
     "text": [
      "1 loop, best of 3: 972 ms per loop\n"
     ]
    }
   ],
   "source": [
    "timeit LibFFA.py_periodogram(data, data.size, dsfactors, bins_min, bins_max, dsfactors.size, plan.widths, plan.widths.size, threads, periods, snrs)"
   ]
  },
  {
   "cell_type": "code",
   "execution_count": 43,
   "metadata": {},
   "outputs": [
    {
     "name": "stdout",
     "output_type": "stream",
     "text": [
      "100 loops, best of 3: 3.56 ms per loop\n"
     ]
    }
   ],
   "source": [
    "timeit num_trials(plan)"
   ]
  },
  {
   "cell_type": "code",
   "execution_count": 57,
   "metadata": {
    "collapsed": true
   },
   "outputs": [],
   "source": [
    "ms, bs = period_trials(plan)"
   ]
  },
  {
   "cell_type": "code",
   "execution_count": 61,
   "metadata": {
    "collapsed": true
   },
   "outputs": [],
   "source": [
    "periods = np.zeros(nt)\n",
    "ix = 0\n",
    "for m, b in zip(ms, bs):\n",
    "    periods[ix:ix+m] = get_period(np.arange(m), m, b)\n",
    "    ix += m\n",
    "    "
   ]
  },
  {
   "cell_type": "code",
   "execution_count": 66,
   "metadata": {},
   "outputs": [
    {
     "name": "stdout",
     "output_type": "stream",
     "text": [
      "10 loops, best of 3: 16 ms per loop\n"
     ]
    }
   ],
   "source": [
    "timeit period_trials(plan)"
   ]
  },
  {
   "cell_type": "code",
   "execution_count": 72,
   "metadata": {},
   "outputs": [
    {
     "data": {
      "text/plain": [
       "[<matplotlib.lines.Line2D at 0x7ff4ff805f28>]"
      ]
     },
     "execution_count": 72,
     "metadata": {},
     "output_type": "execute_result"
    }
   ],
   "source": [
    "plt.plot(period_trials(plan))"
   ]
  },
  {
   "cell_type": "code",
   "execution_count": 71,
   "metadata": {},
   "outputs": [
    {
     "data": {
      "text/plain": [
       "245928"
      ]
     },
     "execution_count": 71,
     "metadata": {},
     "output_type": "execute_result"
    }
   ],
   "source": [
    "np.diff(period_trials(plan)).argmin()"
   ]
  },
  {
   "cell_type": "code",
   "execution_count": 29,
   "metadata": {},
   "outputs": [
    {
     "data": {
      "text/html": [
       "<div>\n",
       "<style>\n",
       "    .dataframe thead tr:only-child th {\n",
       "        text-align: right;\n",
       "    }\n",
       "\n",
       "    .dataframe thead th {\n",
       "        text-align: left;\n",
       "    }\n",
       "\n",
       "    .dataframe tbody tr th {\n",
       "        vertical-align: top;\n",
       "    }\n",
       "</style>\n",
       "<table border=\"1\" class=\"dataframe\">\n",
       "  <thead>\n",
       "    <tr style=\"text-align: right;\">\n",
       "      <th></th>\n",
       "      <th>dsfactor</th>\n",
       "      <th>tsamp</th>\n",
       "      <th>bins_min</th>\n",
       "      <th>bins_max</th>\n",
       "      <th>period_min</th>\n",
       "      <th>period_max</th>\n",
       "    </tr>\n",
       "  </thead>\n",
       "  <tbody>\n",
       "    <tr>\n",
       "      <th>0</th>\n",
       "      <td>32.894737</td>\n",
       "      <td>0.002105</td>\n",
       "      <td>190</td>\n",
       "      <td>210</td>\n",
       "      <td>0.400000</td>\n",
       "      <td>0.442105</td>\n",
       "    </tr>\n",
       "    <tr>\n",
       "      <th>1</th>\n",
       "      <td>36.357341</td>\n",
       "      <td>0.002327</td>\n",
       "      <td>190</td>\n",
       "      <td>210</td>\n",
       "      <td>0.442105</td>\n",
       "      <td>0.488643</td>\n",
       "    </tr>\n",
       "    <tr>\n",
       "      <th>2</th>\n",
       "      <td>40.184429</td>\n",
       "      <td>0.002572</td>\n",
       "      <td>190</td>\n",
       "      <td>210</td>\n",
       "      <td>0.488643</td>\n",
       "      <td>0.540079</td>\n",
       "    </tr>\n",
       "    <tr>\n",
       "      <th>3</th>\n",
       "      <td>44.414369</td>\n",
       "      <td>0.002843</td>\n",
       "      <td>190</td>\n",
       "      <td>210</td>\n",
       "      <td>0.540079</td>\n",
       "      <td>0.596929</td>\n",
       "    </tr>\n",
       "    <tr>\n",
       "      <th>4</th>\n",
       "      <td>49.089566</td>\n",
       "      <td>0.003142</td>\n",
       "      <td>190</td>\n",
       "      <td>210</td>\n",
       "      <td>0.596929</td>\n",
       "      <td>0.659764</td>\n",
       "    </tr>\n",
       "    <tr>\n",
       "      <th>5</th>\n",
       "      <td>54.256889</td>\n",
       "      <td>0.003472</td>\n",
       "      <td>190</td>\n",
       "      <td>210</td>\n",
       "      <td>0.659764</td>\n",
       "      <td>0.729213</td>\n",
       "    </tr>\n",
       "    <tr>\n",
       "      <th>6</th>\n",
       "      <td>59.968140</td>\n",
       "      <td>0.003838</td>\n",
       "      <td>190</td>\n",
       "      <td>210</td>\n",
       "      <td>0.729213</td>\n",
       "      <td>0.805972</td>\n",
       "    </tr>\n",
       "    <tr>\n",
       "      <th>7</th>\n",
       "      <td>66.280576</td>\n",
       "      <td>0.004242</td>\n",
       "      <td>190</td>\n",
       "      <td>210</td>\n",
       "      <td>0.805972</td>\n",
       "      <td>0.890811</td>\n",
       "    </tr>\n",
       "    <tr>\n",
       "      <th>8</th>\n",
       "      <td>73.257479</td>\n",
       "      <td>0.004688</td>\n",
       "      <td>190</td>\n",
       "      <td>210</td>\n",
       "      <td>0.890811</td>\n",
       "      <td>0.984581</td>\n",
       "    </tr>\n",
       "    <tr>\n",
       "      <th>9</th>\n",
       "      <td>80.968792</td>\n",
       "      <td>0.005182</td>\n",
       "      <td>190</td>\n",
       "      <td>210</td>\n",
       "      <td>0.984581</td>\n",
       "      <td>1.088221</td>\n",
       "    </tr>\n",
       "    <tr>\n",
       "      <th>10</th>\n",
       "      <td>89.491823</td>\n",
       "      <td>0.005727</td>\n",
       "      <td>190</td>\n",
       "      <td>210</td>\n",
       "      <td>1.088221</td>\n",
       "      <td>1.202770</td>\n",
       "    </tr>\n",
       "    <tr>\n",
       "      <th>11</th>\n",
       "      <td>98.912015</td>\n",
       "      <td>0.006330</td>\n",
       "      <td>190</td>\n",
       "      <td>210</td>\n",
       "      <td>1.202770</td>\n",
       "      <td>1.329377</td>\n",
       "    </tr>\n",
       "    <tr>\n",
       "      <th>12</th>\n",
       "      <td>109.323806</td>\n",
       "      <td>0.006997</td>\n",
       "      <td>190</td>\n",
       "      <td>210</td>\n",
       "      <td>1.329377</td>\n",
       "      <td>1.469312</td>\n",
       "    </tr>\n",
       "    <tr>\n",
       "      <th>13</th>\n",
       "      <td>120.831575</td>\n",
       "      <td>0.007733</td>\n",
       "      <td>190</td>\n",
       "      <td>210</td>\n",
       "      <td>1.469312</td>\n",
       "      <td>1.623976</td>\n",
       "    </tr>\n",
       "    <tr>\n",
       "      <th>14</th>\n",
       "      <td>133.550688</td>\n",
       "      <td>0.008547</td>\n",
       "      <td>190</td>\n",
       "      <td>210</td>\n",
       "      <td>1.623976</td>\n",
       "      <td>1.794921</td>\n",
       "    </tr>\n",
       "    <tr>\n",
       "      <th>15</th>\n",
       "      <td>147.608655</td>\n",
       "      <td>0.009447</td>\n",
       "      <td>190</td>\n",
       "      <td>210</td>\n",
       "      <td>1.794921</td>\n",
       "      <td>1.983860</td>\n",
       "    </tr>\n",
       "    <tr>\n",
       "      <th>16</th>\n",
       "      <td>163.146408</td>\n",
       "      <td>0.010441</td>\n",
       "      <td>190</td>\n",
       "      <td>210</td>\n",
       "      <td>1.983860</td>\n",
       "      <td>2.192688</td>\n",
       "    </tr>\n",
       "    <tr>\n",
       "      <th>17</th>\n",
       "      <td>180.319714</td>\n",
       "      <td>0.011540</td>\n",
       "      <td>190</td>\n",
       "      <td>210</td>\n",
       "      <td>2.192688</td>\n",
       "      <td>2.423497</td>\n",
       "    </tr>\n",
       "    <tr>\n",
       "      <th>18</th>\n",
       "      <td>199.300737</td>\n",
       "      <td>0.012755</td>\n",
       "      <td>190</td>\n",
       "      <td>210</td>\n",
       "      <td>2.423497</td>\n",
       "      <td>2.678602</td>\n",
       "    </tr>\n",
       "    <tr>\n",
       "      <th>19</th>\n",
       "      <td>220.279762</td>\n",
       "      <td>0.014098</td>\n",
       "      <td>190</td>\n",
       "      <td>210</td>\n",
       "      <td>2.678602</td>\n",
       "      <td>2.960560</td>\n",
       "    </tr>\n",
       "    <tr>\n",
       "      <th>20</th>\n",
       "      <td>243.467105</td>\n",
       "      <td>0.015582</td>\n",
       "      <td>190</td>\n",
       "      <td>210</td>\n",
       "      <td>2.960560</td>\n",
       "      <td>3.272198</td>\n",
       "    </tr>\n",
       "    <tr>\n",
       "      <th>21</th>\n",
       "      <td>269.095222</td>\n",
       "      <td>0.017222</td>\n",
       "      <td>190</td>\n",
       "      <td>210</td>\n",
       "      <td>3.272198</td>\n",
       "      <td>3.616640</td>\n",
       "    </tr>\n",
       "    <tr>\n",
       "      <th>22</th>\n",
       "      <td>297.421034</td>\n",
       "      <td>0.019035</td>\n",
       "      <td>190</td>\n",
       "      <td>210</td>\n",
       "      <td>3.616640</td>\n",
       "      <td>3.997339</td>\n",
       "    </tr>\n",
       "    <tr>\n",
       "      <th>23</th>\n",
       "      <td>328.728512</td>\n",
       "      <td>0.021039</td>\n",
       "      <td>190</td>\n",
       "      <td>210</td>\n",
       "      <td>3.997339</td>\n",
       "      <td>4.418111</td>\n",
       "    </tr>\n",
       "    <tr>\n",
       "      <th>24</th>\n",
       "      <td>363.331513</td>\n",
       "      <td>0.023253</td>\n",
       "      <td>190</td>\n",
       "      <td>210</td>\n",
       "      <td>4.418111</td>\n",
       "      <td>4.883176</td>\n",
       "    </tr>\n",
       "    <tr>\n",
       "      <th>25</th>\n",
       "      <td>401.576935</td>\n",
       "      <td>0.025701</td>\n",
       "      <td>190</td>\n",
       "      <td>210</td>\n",
       "      <td>4.883176</td>\n",
       "      <td>5.397194</td>\n",
       "    </tr>\n",
       "    <tr>\n",
       "      <th>26</th>\n",
       "      <td>443.848192</td>\n",
       "      <td>0.028406</td>\n",
       "      <td>190</td>\n",
       "      <td>210</td>\n",
       "      <td>5.397194</td>\n",
       "      <td>5.965320</td>\n",
       "    </tr>\n",
       "    <tr>\n",
       "      <th>27</th>\n",
       "      <td>490.569054</td>\n",
       "      <td>0.031396</td>\n",
       "      <td>190</td>\n",
       "      <td>210</td>\n",
       "      <td>5.965320</td>\n",
       "      <td>6.593248</td>\n",
       "    </tr>\n",
       "    <tr>\n",
       "      <th>28</th>\n",
       "      <td>542.207902</td>\n",
       "      <td>0.034701</td>\n",
       "      <td>190</td>\n",
       "      <td>210</td>\n",
       "      <td>6.593248</td>\n",
       "      <td>7.287274</td>\n",
       "    </tr>\n",
       "    <tr>\n",
       "      <th>29</th>\n",
       "      <td>599.282418</td>\n",
       "      <td>0.038354</td>\n",
       "      <td>190</td>\n",
       "      <td>210</td>\n",
       "      <td>7.287274</td>\n",
       "      <td>8.054356</td>\n",
       "    </tr>\n",
       "    <tr>\n",
       "      <th>30</th>\n",
       "      <td>662.364777</td>\n",
       "      <td>0.042391</td>\n",
       "      <td>190</td>\n",
       "      <td>210</td>\n",
       "      <td>8.054356</td>\n",
       "      <td>8.902183</td>\n",
       "    </tr>\n",
       "    <tr>\n",
       "      <th>31</th>\n",
       "      <td>732.087385</td>\n",
       "      <td>0.046854</td>\n",
       "      <td>190</td>\n",
       "      <td>210</td>\n",
       "      <td>8.902183</td>\n",
       "      <td>9.839254</td>\n",
       "    </tr>\n",
       "    <tr>\n",
       "      <th>32</th>\n",
       "      <td>809.149215</td>\n",
       "      <td>0.051786</td>\n",
       "      <td>190</td>\n",
       "      <td>210</td>\n",
       "      <td>9.839254</td>\n",
       "      <td>10.874965</td>\n",
       "    </tr>\n",
       "    <tr>\n",
       "      <th>33</th>\n",
       "      <td>894.322817</td>\n",
       "      <td>0.057237</td>\n",
       "      <td>190</td>\n",
       "      <td>210</td>\n",
       "      <td>10.874965</td>\n",
       "      <td>12.019699</td>\n",
       "    </tr>\n",
       "    <tr>\n",
       "      <th>34</th>\n",
       "      <td>988.462061</td>\n",
       "      <td>0.063262</td>\n",
       "      <td>190</td>\n",
       "      <td>210</td>\n",
       "      <td>12.019699</td>\n",
       "      <td>13.284930</td>\n",
       "    </tr>\n",
       "    <tr>\n",
       "      <th>35</th>\n",
       "      <td>1092.510699</td>\n",
       "      <td>0.069921</td>\n",
       "      <td>190</td>\n",
       "      <td>210</td>\n",
       "      <td>13.284930</td>\n",
       "      <td>14.683344</td>\n",
       "    </tr>\n",
       "    <tr>\n",
       "      <th>36</th>\n",
       "      <td>1207.511825</td>\n",
       "      <td>0.077281</td>\n",
       "      <td>190</td>\n",
       "      <td>210</td>\n",
       "      <td>14.683344</td>\n",
       "      <td>16.228959</td>\n",
       "    </tr>\n",
       "    <tr>\n",
       "      <th>37</th>\n",
       "      <td>1334.618333</td>\n",
       "      <td>0.085416</td>\n",
       "      <td>190</td>\n",
       "      <td>210</td>\n",
       "      <td>16.228959</td>\n",
       "      <td>17.937270</td>\n",
       "    </tr>\n",
       "    <tr>\n",
       "      <th>38</th>\n",
       "      <td>1475.104473</td>\n",
       "      <td>0.094407</td>\n",
       "      <td>190</td>\n",
       "      <td>210</td>\n",
       "      <td>17.937270</td>\n",
       "      <td>19.825404</td>\n",
       "    </tr>\n",
       "    <tr>\n",
       "      <th>39</th>\n",
       "      <td>1630.378629</td>\n",
       "      <td>0.104344</td>\n",
       "      <td>190</td>\n",
       "      <td>210</td>\n",
       "      <td>19.825404</td>\n",
       "      <td>21.912289</td>\n",
       "    </tr>\n",
       "    <tr>\n",
       "      <th>40</th>\n",
       "      <td>1801.997432</td>\n",
       "      <td>0.115328</td>\n",
       "      <td>190</td>\n",
       "      <td>210</td>\n",
       "      <td>21.912289</td>\n",
       "      <td>24.218845</td>\n",
       "    </tr>\n",
       "    <tr>\n",
       "      <th>41</th>\n",
       "      <td>1991.681372</td>\n",
       "      <td>0.127468</td>\n",
       "      <td>190</td>\n",
       "      <td>210</td>\n",
       "      <td>24.218845</td>\n",
       "      <td>26.768198</td>\n",
       "    </tr>\n",
       "    <tr>\n",
       "      <th>42</th>\n",
       "      <td>2201.332042</td>\n",
       "      <td>0.140885</td>\n",
       "      <td>190</td>\n",
       "      <td>210</td>\n",
       "      <td>26.768198</td>\n",
       "      <td>29.585903</td>\n",
       "    </tr>\n",
       "    <tr>\n",
       "      <th>43</th>\n",
       "      <td>2433.051205</td>\n",
       "      <td>0.155715</td>\n",
       "      <td>190</td>\n",
       "      <td>193</td>\n",
       "      <td>29.585903</td>\n",
       "      <td>30.053048</td>\n",
       "    </tr>\n",
       "  </tbody>\n",
       "</table>\n",
       "</div>"
      ],
      "text/plain": [
       "       dsfactor     tsamp  bins_min  bins_max  period_min  period_max\n",
       "0     32.894737  0.002105       190       210    0.400000    0.442105\n",
       "1     36.357341  0.002327       190       210    0.442105    0.488643\n",
       "2     40.184429  0.002572       190       210    0.488643    0.540079\n",
       "3     44.414369  0.002843       190       210    0.540079    0.596929\n",
       "4     49.089566  0.003142       190       210    0.596929    0.659764\n",
       "5     54.256889  0.003472       190       210    0.659764    0.729213\n",
       "6     59.968140  0.003838       190       210    0.729213    0.805972\n",
       "7     66.280576  0.004242       190       210    0.805972    0.890811\n",
       "8     73.257479  0.004688       190       210    0.890811    0.984581\n",
       "9     80.968792  0.005182       190       210    0.984581    1.088221\n",
       "10    89.491823  0.005727       190       210    1.088221    1.202770\n",
       "11    98.912015  0.006330       190       210    1.202770    1.329377\n",
       "12   109.323806  0.006997       190       210    1.329377    1.469312\n",
       "13   120.831575  0.007733       190       210    1.469312    1.623976\n",
       "14   133.550688  0.008547       190       210    1.623976    1.794921\n",
       "15   147.608655  0.009447       190       210    1.794921    1.983860\n",
       "16   163.146408  0.010441       190       210    1.983860    2.192688\n",
       "17   180.319714  0.011540       190       210    2.192688    2.423497\n",
       "18   199.300737  0.012755       190       210    2.423497    2.678602\n",
       "19   220.279762  0.014098       190       210    2.678602    2.960560\n",
       "20   243.467105  0.015582       190       210    2.960560    3.272198\n",
       "21   269.095222  0.017222       190       210    3.272198    3.616640\n",
       "22   297.421034  0.019035       190       210    3.616640    3.997339\n",
       "23   328.728512  0.021039       190       210    3.997339    4.418111\n",
       "24   363.331513  0.023253       190       210    4.418111    4.883176\n",
       "25   401.576935  0.025701       190       210    4.883176    5.397194\n",
       "26   443.848192  0.028406       190       210    5.397194    5.965320\n",
       "27   490.569054  0.031396       190       210    5.965320    6.593248\n",
       "28   542.207902  0.034701       190       210    6.593248    7.287274\n",
       "29   599.282418  0.038354       190       210    7.287274    8.054356\n",
       "30   662.364777  0.042391       190       210    8.054356    8.902183\n",
       "31   732.087385  0.046854       190       210    8.902183    9.839254\n",
       "32   809.149215  0.051786       190       210    9.839254   10.874965\n",
       "33   894.322817  0.057237       190       210   10.874965   12.019699\n",
       "34   988.462061  0.063262       190       210   12.019699   13.284930\n",
       "35  1092.510699  0.069921       190       210   13.284930   14.683344\n",
       "36  1207.511825  0.077281       190       210   14.683344   16.228959\n",
       "37  1334.618333  0.085416       190       210   16.228959   17.937270\n",
       "38  1475.104473  0.094407       190       210   17.937270   19.825404\n",
       "39  1630.378629  0.104344       190       210   19.825404   21.912289\n",
       "40  1801.997432  0.115328       190       210   21.912289   24.218845\n",
       "41  1991.681372  0.127468       190       210   24.218845   26.768198\n",
       "42  2201.332042  0.140885       190       210   26.768198   29.585903\n",
       "43  2433.051205  0.155715       190       193   29.585903   30.053048"
      ]
     },
     "execution_count": 29,
     "metadata": {},
     "output_type": "execute_result"
    }
   ],
   "source": [
    "plan.steps"
   ]
  },
  {
   "cell_type": "code",
   "execution_count": 18,
   "metadata": {
    "collapsed": true
   },
   "outputs": [],
   "source": [
    "wdata = fft_deredden(data, tsamp)"
   ]
  },
  {
   "cell_type": "code",
   "execution_count": 116,
   "metadata": {},
   "outputs": [
    {
     "data": {
      "text/plain": [
       "[<matplotlib.lines.Line2D at 0x7ff5f8146048>]"
      ]
     },
     "execution_count": 116,
     "metadata": {},
     "output_type": "execute_result"
    }
   ],
   "source": [
    "plt.plot(tseries.data, 'k.', markersize=1)"
   ]
  },
  {
   "cell_type": "code",
   "execution_count": 29,
   "metadata": {},
   "outputs": [
    {
     "data": {
      "text/plain": [
       "0.17150381"
      ]
     },
     "execution_count": 29,
     "metadata": {},
     "output_type": "execute_result"
    }
   ],
   "source": []
  },
  {
   "cell_type": "code",
   "execution_count": null,
   "metadata": {
    "collapsed": true
   },
   "outputs": [],
   "source": []
  }
 ],
 "metadata": {
  "anaconda-cloud": {},
  "kernelspec": {
   "display_name": "Python [default]",
   "language": "python",
   "name": "python3"
  },
  "language_info": {
   "codemirror_mode": {
    "name": "ipython",
    "version": 3
   },
   "file_extension": ".py",
   "mimetype": "text/x-python",
   "name": "python",
   "nbconvert_exporter": "python",
   "pygments_lexer": "ipython3",
   "version": "3.5.4"
  }
 },
 "nbformat": 4,
 "nbformat_minor": 2
}
