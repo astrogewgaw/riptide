{
 "cells": [
  {
   "cell_type": "code",
   "execution_count": 1,
   "metadata": {
    "collapsed": true,
    "deletable": true,
    "editable": true
   },
   "outputs": [],
   "source": [
    "import time\n",
    "import numpy as np\n",
    "import matplotlib.pyplot as plt\n",
    "%matplotlib qt5\n",
    "\n",
    "from numpy import pi, log, sin, cos, exp\n",
    "from riptide.libffa import LibFFA"
   ]
  },
  {
   "cell_type": "code",
   "execution_count": 2,
   "metadata": {
    "collapsed": true,
    "deletable": true,
    "editable": true
   },
   "outputs": [],
   "source": [
    "def get_width_trials(b, wmax=0.25, wtsp=1.5):\n",
    "    \"\"\" Generate the list of width trials \"\"\"\n",
    "    widths = []\n",
    "    w = 1\n",
    "    wmax = max(1, wmax * b)\n",
    "    while w <= wmax:\n",
    "        widths.append(w)\n",
    "        w = max(w + 1, int(w * wtsp))\n",
    "    return np.asarray(widths)\n",
    "\n",
    "\n",
    "def runtime_avg(m, b, snr=True, runs=20):\n",
    "    data = np.zeros(shape=(m, b), dtype=np.float32)\n",
    "    out = np.zeros_like(data)\n",
    "    widths = get_width_trials(b)\n",
    "    snrs = np.zeros(shape=(m, widths.size), dtype=np.float32)\n",
    "    varnoise = 1.0\n",
    "\n",
    "    runtimes = []\n",
    "\n",
    "    for irun in range(runs):\n",
    "        start = time.time()\n",
    "        LibFFA.py_transform(data, m, b, out)\n",
    "        if snr:\n",
    "            LibFFA.get_snr_2d(out, m, b, widths, widths.size, varnoise, snrs)\n",
    "        end = time.time()\n",
    "        runtimes.append(end - start)\n",
    "\n",
    "    return sum(runtimes) / runs\n",
    "\n",
    "def runtime_full_search(tobs, b, period_min=1.0, period_max=60.0, runs=1):\n",
    "    mmax = int(tobs / period_min)\n",
    "    \n",
    "    dsfactor = (b+1.0)/b\n",
    "    current_period = period_min\n",
    "    runtimes = []\n",
    "    \n",
    "    while current_period < period_max:\n",
    "        m = int(tobs / current_period)\n",
    "        runtime = runtime_avg(m, b, runs=runs)\n",
    "        runtimes.append(runtime)\n",
    "        #print('%12.4fs %8d %12.4fms' % (current_period, m, runtime))\n",
    "        current_period *= dsfactor\n",
    "    return np.asarray(runtimes)"
   ]
  },
  {
   "cell_type": "code",
   "execution_count": null,
   "metadata": {
    "collapsed": false,
    "deletable": true,
    "editable": true,
    "scrolled": true
   },
   "outputs": [],
   "source": [
    "pmin_trials = [0.256, 0.384, 0.512, 0.768, 1.024, 1.536, 2.048]\n",
    "pmax = 60.0\n",
    "bins_trials = [128, 192, 256, 384, 512, 768, 1024]\n",
    "tobs = 3600.0\n",
    "\n",
    "for pmin in reversed(pmin_trials):\n",
    "    for bins in bins_trials:\n",
    "        runtimes = runtime_full_search(tobs, bins, period_min=pmin)\n",
    "        print('%10.4fs %8d %10.4fs' % (pmin, bins, runtimes.sum()))"
   ]
  },
  {
   "cell_type": "code",
   "execution_count": 9,
   "metadata": {
    "collapsed": false,
    "deletable": true,
    "editable": true
   },
   "outputs": [
    {
     "name": "stdout",
     "output_type": "stream",
     "text": [
      "    2.0480s      128     0.0634s\n",
      "    2.0480s      192     0.0692s\n",
      "    2.0480s      256     0.1356s\n",
      "    2.0480s      384     0.2110s\n",
      "    2.0480s      512     0.3192s\n",
      "    2.0480s      768     0.6054s\n",
      "    2.0480s     1024     1.0288s\n",
      "    1.5360s      128     0.0499s\n",
      "    1.5360s      192     0.0871s\n",
      "    1.5360s      256     0.1571s\n",
      "    1.5360s      384     0.2658s\n",
      "    1.5360s      512     0.4116s\n",
      "    1.5360s      768     0.7906s\n",
      "    1.5360s     1024     1.3138s\n",
      "    1.0240s      128     0.0688s\n",
      "    1.0240s      192     0.1525s\n",
      "    1.0240s      256     0.2147s\n",
      "    1.0240s      384     0.3827s\n",
      "    1.0240s      512     0.6074s\n",
      "    1.0240s      768     1.1812s\n",
      "    1.0240s     1024     2.0807s\n",
      "    0.7680s      128     0.0910s\n",
      "    0.7680s      192     0.1855s\n",
      "    0.7680s      256     0.2679s\n",
      "    0.7680s      384     0.5019s\n",
      "    0.7680s      512     0.7922s\n",
      "    0.7680s      768     1.5880s\n",
      "    0.7680s     1024     2.8018s\n",
      "    0.5120s      128     0.1273s\n",
      "    0.5120s      192     0.2662s\n",
      "    0.5120s      256     0.3979s\n",
      "    0.5120s      384     0.7368s\n",
      "    0.5120s      512     1.1985s\n",
      "    0.5120s      768     2.4608s\n",
      "    0.5120s     1024     4.3818s\n",
      "    0.3840s      128     0.1685s\n",
      "    0.3840s      192     0.3431s\n",
      "    0.3840s      256     0.5233s\n",
      "    0.3840s      384     0.9838s\n",
      "    0.3840s      512     1.6352s\n",
      "    0.3840s      768     3.4537s\n",
      "    0.3840s     1024     6.0723s\n",
      "    0.2560s      128     0.2744s\n",
      "    0.2560s      192     0.5158s\n",
      "    0.2560s      256     0.7883s\n",
      "    0.2560s      384     1.5225s\n",
      "    0.2560s      512     2.5255s\n",
      "    0.2560s      768     5.4743s\n",
      "    0.2560s     1024    10.6838s\n"
     ]
    }
   ],
   "source": [
    "pmin_trials = [0.256, 0.384, 0.512, 0.768, 1.024, 1.536, 2.048]\n",
    "pmax = 60.0\n",
    "bins_trials = [128, 192, 256, 384, 512, 768, 1024]\n",
    "tobs = 560.0\n",
    "\n",
    "for pmin in reversed(pmin_trials):\n",
    "    for bins in bins_trials:\n",
    "        runtimes = runtime_full_search(tobs, bins, period_min=pmin)\n",
    "        print('%10.4fs %8d %10.4fs' % (pmin, bins, runtimes.sum()))"
   ]
  },
  {
   "cell_type": "code",
   "execution_count": 28,
   "metadata": {
    "collapsed": false,
    "deletable": true,
    "editable": true
   },
   "outputs": [
    {
     "data": {
      "text/plain": [
       "7.0759655634562177"
      ]
     },
     "execution_count": 28,
     "metadata": {},
     "output_type": "execute_result"
    }
   ],
   "source": [
    "runtimes.sum()"
   ]
  },
  {
   "cell_type": "code",
   "execution_count": 13,
   "metadata": {
    "collapsed": false,
    "deletable": true,
    "editable": true
   },
   "outputs": [
    {
     "data": {
      "text/plain": [
       "0.18874367999999997"
      ]
     },
     "execution_count": 13,
     "metadata": {},
     "output_type": "execute_result"
    }
   ],
   "source": [
    "491.52e-6 * 384"
   ]
  },
  {
   "cell_type": "code",
   "execution_count": 14,
   "metadata": {
    "collapsed": false,
    "deletable": true,
    "editable": true
   },
   "outputs": [
    {
     "data": {
      "text/plain": [
       "6.428571428571429"
      ]
     },
     "execution_count": 14,
     "metadata": {},
     "output_type": "execute_result"
    }
   ],
   "source": [
    "3600.0/560.0"
   ]
  },
  {
   "cell_type": "code",
   "execution_count": null,
   "metadata": {
    "collapsed": true,
    "deletable": true,
    "editable": true
   },
   "outputs": [],
   "source": []
  }
 ],
 "metadata": {
  "anaconda-cloud": {},
  "kernelspec": {
   "display_name": "Python [conda root]",
   "language": "python",
   "name": "conda-root-py"
  },
  "language_info": {
   "codemirror_mode": {
    "name": "ipython",
    "version": 3
   },
   "file_extension": ".py",
   "mimetype": "text/x-python",
   "name": "python",
   "nbconvert_exporter": "python",
   "pygments_lexer": "ipython3",
   "version": "3.5.2"
  }
 },
 "nbformat": 4,
 "nbformat_minor": 2
}
