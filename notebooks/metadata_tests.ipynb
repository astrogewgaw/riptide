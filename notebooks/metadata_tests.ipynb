{
 "cells": [
  {
   "cell_type": "code",
   "execution_count": 1,
   "metadata": {},
   "outputs": [],
   "source": [
    "%load_ext autoreload\n",
    "%autoreload 2\n",
    "\n",
    "import numpy as np\n",
    "import matplotlib.pyplot as plt\n",
    "%matplotlib qt5\n",
    "\n",
    "from riptide.metadata import Metadata"
   ]
  },
  {
   "cell_type": "code",
   "execution_count": 6,
   "metadata": {},
   "outputs": [],
   "source": [
    "attrs = {\n",
    "    'source_name' : 'LULZ',\n",
    "    'icrs_ra_deg' : 0.0,\n",
    "    'icrs_dec_deg': 0.0,\n",
    "    'lulz' : 1,\n",
    "    'skycoord': None\n",
    "    }\n",
    "\n",
    "mdinf = Metadata(attrs)\n",
    "#mdinf = Metadata.from_presto_inf('/home/vince/work/pulsars/presto_time_series/J1855+0307_DM360.00.inf')"
   ]
  },
  {
   "cell_type": "code",
   "execution_count": 7,
   "metadata": {},
   "outputs": [
    {
     "name": "stdout",
     "output_type": "stream",
     "text": [
      "Metadata\n",
      "{'dm': None,\n",
      " 'icrs_dec_deg': 0.0,\n",
      " 'icrs_ra_deg': 0.0,\n",
      " 'lulz': 1,\n",
      " 'mjd': None,\n",
      " 'skycoord': None,\n",
      " 'source_name': 'LULZ'}\n",
      "Metadata\n",
      "{'dm': None,\n",
      " 'icrs_dec_deg': 0.0,\n",
      " 'icrs_ra_deg': 0.0,\n",
      " 'lulz': 1,\n",
      " 'mjd': None,\n",
      " 'skycoord': None,\n",
      " 'source_name': 'LULZ'}\n"
     ]
    }
   ],
   "source": [
    "import h5py\n",
    "\n",
    "with h5py.File('metadata.h5', 'w') as fobj:\n",
    "    print(mdinf)\n",
    "    mdinf._save_to_hdf5_file(fobj)\n",
    "    \n",
    "with h5py.File('metadata.h5', 'r') as fobj:\n",
    "    md = Metadata._from_hdf5_file(fobj)\n",
    "    print(md)"
   ]
  },
  {
   "cell_type": "code",
   "execution_count": 8,
   "metadata": {
    "collapsed": true
   },
   "outputs": [],
   "source": [
    "msg = 'Metadata key \\'{key:s}\\' must have type \\'{typ:s}\\''.format(key='key', typ='type')"
   ]
  },
  {
   "cell_type": "code",
   "execution_count": 6,
   "metadata": {},
   "outputs": [
    {
     "data": {
      "text/plain": [
       "\"Metadata key 'key' must have type 'type'\""
      ]
     },
     "execution_count": 6,
     "metadata": {},
     "output_type": "execute_result"
    }
   ],
   "source": [
    "msg"
   ]
  },
  {
   "cell_type": "code",
   "execution_count": 5,
   "metadata": {
    "collapsed": true
   },
   "outputs": [],
   "source": [
    "from astropy.coordinates import SkyCoord"
   ]
  },
  {
   "cell_type": "code",
   "execution_count": 6,
   "metadata": {},
   "outputs": [
    {
     "data": {
      "text/plain": [
       "'SkyCoord'"
      ]
     },
     "execution_count": 6,
     "metadata": {},
     "output_type": "execute_result"
    }
   ],
   "source": [
    "SkyCoord.__name__"
   ]
  },
  {
   "cell_type": "code",
   "execution_count": 7,
   "metadata": {},
   "outputs": [
    {
     "ename": "AttributeError",
     "evalue": "type object 'Metadata' has no attribute '__required_attrs'",
     "output_type": "error",
     "traceback": [
      "\u001b[0;31m---------------------------------------------------------------------------\u001b[0m",
      "\u001b[0;31mAttributeError\u001b[0m                            Traceback (most recent call last)",
      "\u001b[0;32m<ipython-input-7-228dd0665c1d>\u001b[0m in \u001b[0;36m<module>\u001b[0;34m()\u001b[0m\n\u001b[0;32m----> 1\u001b[0;31m \u001b[0mMetadata\u001b[0m\u001b[0;34m.\u001b[0m\u001b[0m__required_attrs\u001b[0m\u001b[0;34m\u001b[0m\u001b[0m\n\u001b[0m",
      "\u001b[0;31mAttributeError\u001b[0m: type object 'Metadata' has no attribute '__required_attrs'"
     ]
    }
   ],
   "source": [
    "Metadata.__required_attrs"
   ]
  },
  {
   "cell_type": "code",
   "execution_count": 3,
   "metadata": {},
   "outputs": [
    {
     "data": {
      "text/plain": [
       "{'dm': float,\n",
       " 'mjd': float,\n",
       " 'skycoord': astropy.coordinates.sky_coordinate.SkyCoord,\n",
       " 'source_name': str}"
      ]
     },
     "execution_count": 3,
     "metadata": {},
     "output_type": "execute_result"
    }
   ],
   "source": [
    "md._required_attrs"
   ]
  },
  {
   "cell_type": "code",
   "execution_count": 4,
   "metadata": {},
   "outputs": [
    {
     "data": {
      "text/plain": [
       "Metadata {'icrs_ra_deg': 0.0, 'icrs_dec_deg': 0.0, 'skycoord': None, 'dm': 0.0, 'mjd': None, 'source_name': 'LULZ', 'lulz': 1}"
      ]
     },
     "execution_count": 4,
     "metadata": {},
     "output_type": "execute_result"
    }
   ],
   "source": [
    "md"
   ]
  },
  {
   "cell_type": "code",
   "execution_count": 12,
   "metadata": {},
   "outputs": [
    {
     "data": {
      "text/plain": [
       "{}"
      ]
     },
     "execution_count": 12,
     "metadata": {},
     "output_type": "execute_result"
    }
   ],
   "source": [
    "a = {}\n",
    "a.pop('a', None)\n",
    "a"
   ]
  },
  {
   "cell_type": "code",
   "execution_count": 13,
   "metadata": {
    "collapsed": true
   },
   "outputs": [],
   "source": [
    "fobj.close()\n"
   ]
  },
  {
   "cell_type": "code",
   "execution_count": 10,
   "metadata": {},
   "outputs": [],
   "source": [
    "attrs = fobj['metadata'].attrs\n",
    "attrs.c"
   ]
  },
  {
   "cell_type": "code",
   "execution_count": null,
   "metadata": {
    "collapsed": true
   },
   "outputs": [],
   "source": []
  }
 ],
 "metadata": {
  "kernelspec": {
   "display_name": "Python [default]",
   "language": "python",
   "name": "python3"
  },
  "language_info": {
   "codemirror_mode": {
    "name": "ipython",
    "version": 3
   },
   "file_extension": ".py",
   "mimetype": "text/x-python",
   "name": "python",
   "nbconvert_exporter": "python",
   "pygments_lexer": "ipython3",
   "version": "3.5.4"
  }
 },
 "nbformat": 4,
 "nbformat_minor": 2
}
