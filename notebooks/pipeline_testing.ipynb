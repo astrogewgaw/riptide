{
 "cells": [
  {
   "cell_type": "code",
   "execution_count": 2,
   "metadata": {},
   "outputs": [],
   "source": [
    "from timeit import default_timer\n",
    "\n",
    "import numpy as np\n",
    "import matplotlib.pyplot as plt\n",
    "%matplotlib qt5\n",
    "\n",
    "from numpy import ceil\n",
    "import pandas\n",
    "\n",
    "from riptide import TimeSeries, Periodogram, ffa_search, generate_signal\n",
    "from riptide.reading import PrestoInf\n",
    "from riptide.periodogram import Periodogram\n",
    "\n",
    "\n",
    "\n",
    "%load_ext autoreload\n",
    "%autoreload 2"
   ]
  },
  {
   "cell_type": "markdown",
   "metadata": {},
   "source": [
    "## Generate some artificial data for test purposes"
   ]
  },
  {
   "cell_type": "code",
   "execution_count": 5,
   "metadata": {},
   "outputs": [
    {
     "name": "stdout",
     "output_type": "stream",
     "text": [
      "Period = 781.351342 ms\n"
     ]
    }
   ],
   "source": [
    "tsamp = 64e-6  # sampling time\n",
    "period = np.random.uniform(low=0.5, high=1.0) # signal period in seconds\n",
    "period_samples = period / tsamp  # signal period in samples\n",
    "nsamp = 2**23  # number of samples\n",
    "phi0 = np.random.uniform(low=0.0, high=1.0) # initial phase of the signal in number of periods\n",
    "\n",
    "### Generate the signal\n",
    "data = generate_signal(nsamp, period_samples, phi0, amplitude=0.1)\n",
    "print('Period = %.6f ms' % (period * 1000.0))"
   ]
  },
  {
   "cell_type": "code",
   "execution_count": 6,
   "metadata": {
    "scrolled": true
   },
   "outputs": [
    {
     "name": "stdout",
     "output_type": "stream",
     "text": [
      "TimeSeries {nsamp = 8388608, tsamp = 6.4000e-05, tobs = 536.871}\n",
      "Number of samples  : 8388608\n",
      "Sampling time      : 6.400000e-05\n",
      "\n",
      "Width trials (bins): 1, 2, 3, 4, 6, 9, 13, 19, 28, 42\n",
      "\n",
      "    dsfactor     tsamp  bins_min  bins_max  period_min  period_max\n",
      "0  32.552083  0.002083       240       260    0.500000    0.541667\n",
      "1  35.264757  0.002257       240       260    0.541667    0.586806\n",
      "2  38.203487  0.002445       240       260    0.586806    0.635706\n",
      "3  41.387111  0.002649       240       260    0.635706    0.688682\n",
      "4  44.836036  0.002870       240       260    0.688682    0.746072\n",
      "5  48.572373  0.003109       240       260    0.746072    0.808244\n",
      "6  52.620071  0.003368       240       260    0.808244    0.875598\n",
      "7  57.005076  0.003648       240       260    0.875598    0.948564\n",
      "8  61.755499  0.003952       240       254    0.948564    1.003897\n"
     ]
    }
   ],
   "source": [
    "time_series = TimeSeries(data, tsamp)\n",
    "print(time_series)\n",
    "ts, plan, pgram = ffa_search(time_series, period_min=0.50, period_max=1.0, bins_min=240, bins_max=260, threads=2)\n",
    "print(plan)\n",
    "pgram.display()"
   ]
  },
  {
   "cell_type": "code",
   "execution_count": 19,
   "metadata": {},
   "outputs": [
    {
     "name": "stdout",
     "output_type": "stream",
     "text": [
      "TimeSeries {nsamp = 8754411, tsamp = 6.4000e-05, tobs = 560.282}\n"
     ]
    }
   ],
   "source": [
    "time_series = TimeSeries.from_presto_inf('/home/vince/work/pulsars/presto_time_series/J1855+0307_DM400.00.inf')\n",
    "#time_series = TimeSeries(data, tsamp)\n",
    "print(time_series)\n",
    "ts, plan, pgram = ffa_search(time_series, period_min=0.50, period_max=1.0, bins_min=240, bins_max=260)\n",
    "pgram.display()"
   ]
  },
  {
   "cell_type": "code",
   "execution_count": 9,
   "metadata": {
    "collapsed": true
   },
   "outputs": [],
   "source": [
    "pgram.display(iwidth=2)"
   ]
  },
  {
   "cell_type": "code",
   "execution_count": 116,
   "metadata": {},
   "outputs": [
    {
     "data": {
      "text/plain": [
       "'19:21:25.2300'"
      ]
     },
     "execution_count": 116,
     "metadata": {},
     "output_type": "execute_result"
    }
   ],
   "source": [
    "inf = PrestoInf('/home/vmorello/work/presto_datfiles/J1921-0459_DM100.00.inf')\n",
    "inf.raj"
   ]
  },
  {
   "cell_type": "code",
   "execution_count": 32,
   "metadata": {},
   "outputs": [
    {
     "data": {
      "text/plain": [
       "'19h21m25.23s'"
      ]
     },
     "execution_count": 32,
     "metadata": {},
     "output_type": "execute_result"
    }
   ],
   "source": [
    "c = SkyCoord(inf.raj, inf.decj, unit=(uu.hour, uu.deg))\n",
    "c.ra.to_string(unit=uu.hour, pad=True, precision=2)"
   ]
  },
  {
   "cell_type": "code",
   "execution_count": 26,
   "metadata": {},
   "outputs": [
    {
     "name": "stdout",
     "output_type": "stream",
     "text": [
      "19:21:25.2300\n"
     ]
    }
   ],
   "source": [
    "print(inf.raj)"
   ]
  },
  {
   "cell_type": "code",
   "execution_count": 66,
   "metadata": {},
   "outputs": [
    {
     "name": "stdout",
     "output_type": "stream",
     "text": [
      "{'source': None, 'mjd': None, 'dm': 77.0, 'rajd': None, 'decjd': None}\n",
      "{'source': '__None', 'mjd': '__None', 'dm': 77.0, 'rajd': '__None', 'decjd': '__None'}\n"
     ]
    }
   ],
   "source": [
    "#md = Metadata.from_presto_inf(inf)\n",
    "md = Metadata(dm=77)\n",
    "print(md.to_dict())\n",
    "md.save_hdf5('/home/vmorello/metadata.h5')"
   ]
  },
  {
   "cell_type": "code",
   "execution_count": 63,
   "metadata": {
    "collapsed": true
   },
   "outputs": [],
   "source": [
    "md = Metadata.load_hdf5('/home/vmorello/metadata.h5')"
   ]
  },
  {
   "cell_type": "code",
   "execution_count": 64,
   "metadata": {},
   "outputs": [
    {
     "data": {
      "text/plain": [
       "{'decjd': None, 'dm': 77.0, 'mjd': None, 'rajd': None, 'source': None}"
      ]
     },
     "execution_count": 64,
     "metadata": {},
     "output_type": "execute_result"
    }
   ],
   "source": [
    "md.to_dict()"
   ]
  },
  {
   "cell_type": "code",
   "execution_count": 30,
   "metadata": {},
   "outputs": [
    {
     "data": {
      "text/plain": [
       "Empty(dtype='f')"
      ]
     },
     "execution_count": 30,
     "metadata": {},
     "output_type": "execute_result"
    }
   ],
   "source": [
    "h5py.Empty('f')"
   ]
  },
  {
   "cell_type": "code",
   "execution_count": null,
   "metadata": {
    "collapsed": true
   },
   "outputs": [],
   "source": []
  }
 ],
 "metadata": {
  "kernelspec": {
   "display_name": "Python [default]",
   "language": "python",
   "name": "python3"
  }
 },
 "nbformat": 4,
 "nbformat_minor": 2
}
