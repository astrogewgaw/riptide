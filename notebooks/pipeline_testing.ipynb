{
 "cells": [
  {
   "cell_type": "code",
   "execution_count": 1,
   "metadata": {},
   "outputs": [],
   "source": [
    "%load_ext autoreload\n",
    "%autoreload 2\n",
    "\n",
    "from timeit import default_timer\n",
    "\n",
    "import numpy as np\n",
    "import matplotlib.pyplot as plt\n",
    "%matplotlib qt5\n",
    "\n",
    "from numpy import ceil\n",
    "import pandas\n",
    "\n",
    "from riptide import TimeSeries, Periodogram, ffa_search, generate_signal\n",
    "from riptide.reading import PrestoInf\n",
    "from riptide.periodogram import Periodogram"
   ]
  },
  {
   "cell_type": "markdown",
   "metadata": {},
   "source": [
    "## Generate some artificial data for test purposes"
   ]
  },
  {
   "cell_type": "code",
   "execution_count": 3,
   "metadata": {},
   "outputs": [
    {
     "name": "stdout",
     "output_type": "stream",
     "text": [
      "period = 654.339313 ms\n",
      "phi0   = 0.765455\n",
      "TimeSeries {nsamp = 8388608, tsamp = 2.5600e-04, tobs = 2147.484}\n"
     ]
    }
   ],
   "source": [
    "tsamp = 256e-6  # sampling time\n",
    "period = np.random.uniform(low=0.5, high=1.0) # signal period in seconds\n",
    "nsamp = 2**23  # number of samples\n",
    "phi0 = np.random.uniform(low=0.0, high=1.0) # initial phase of the signal in number of periods\n",
    "\n",
    "### Generate the signal\n",
    "print('period = %.6f ms' % (period * 1000.0))\n",
    "print('phi0   = %.6f' % phi0)\n",
    "\n",
    "time_series = TimeSeries.generate(nsamp * tsamp, tsamp, period=period, phi0=phi0, ducy=0.02, amplitude=0.1)\n",
    "print(time_series)"
   ]
  },
  {
   "cell_type": "code",
   "execution_count": 4,
   "metadata": {
    "scrolled": true
   },
   "outputs": [
    {
     "name": "stdout",
     "output_type": "stream",
     "text": [
      "Number of samples  : 8388608\n",
      "Sampling time      : 2.560000e-04\n",
      "\n",
      "Width trials (bins): 1, 2, 3, 4, 6, 9, 13, 19, 28, 42\n",
      "\n",
      "    dsfactor     tsamp  bins_min  bins_max  period_min  period_max\n",
      "0   8.138021  0.002083       240       260    0.500000    0.541667\n",
      "1   8.816189  0.002257       240       260    0.541667    0.586806\n",
      "2   9.550872  0.002445       240       260    0.586806    0.635706\n",
      "3  10.346778  0.002649       240       260    0.635706    0.688682\n",
      "4  11.209009  0.002870       240       260    0.688682    0.746072\n",
      "5  12.143093  0.003109       240       260    0.746072    0.808244\n",
      "6  13.155018  0.003368       240       260    0.808244    0.875598\n",
      "7  14.251269  0.003648       240       260    0.875598    0.948564\n",
      "8  15.438875  0.003952       240       254    0.948564    1.003897\n"
     ]
    }
   ],
   "source": [
    "ts, plan, pgram = ffa_search(time_series, period_min=0.50, period_max=1.0, bins_min=240, bins_max=260, threads=2)\n",
    "print(plan)\n",
    "pgram.display()"
   ]
  },
  {
   "cell_type": "code",
   "execution_count": 2,
   "metadata": {},
   "outputs": [
    {
     "name": "stdout",
     "output_type": "stream",
     "text": [
      "TimeSeries {nsamp = 8703764, tsamp = 6.4000e-05, tobs = 557.041}\n"
     ]
    }
   ],
   "source": [
    "#time_series = TimeSeries.from_presto_inf('/home/vince/work/pulsars/presto_time_series/J1855+0307_DM400.00.inf')\n",
    "time_series = TimeSeries.from_sigproc(\n",
    "    '/home/vince/work/pulsars/sigproc_time_series/J0636-4549.sigproc.tim'\n",
    "    )\n",
    "print(time_series)\n",
    "ts, plan, pgram = ffa_search(time_series, period_min=0.50, period_max=10.0, bins_min=480, bins_max=520, rmed_width=3.0)\n",
    "pgram.display()"
   ]
  }
 ],
 "metadata": {
  "kernelspec": {
   "display_name": "Python [default]",
   "language": "python",
   "name": "python3"
  },
  "language_info": {
   "codemirror_mode": {
    "name": "ipython",
    "version": 3
   },
   "file_extension": ".py",
   "mimetype": "text/x-python",
   "name": "python",
   "nbconvert_exporter": "python",
   "pygments_lexer": "ipython3",
   "version": "3.5.4"
  }
 },
 "nbformat": 4,
 "nbformat_minor": 2
}
