{
 "cells": [
  {
   "cell_type": "code",
   "execution_count": 1,
   "metadata": {
    "collapsed": true
   },
   "outputs": [],
   "source": [
    "from timeit import default_timer\n",
    "\n",
    "import numpy as np\n",
    "import matplotlib.pyplot as plt\n",
    "%matplotlib qt5\n",
    "\n",
    "from numpy import ceil\n",
    "import pandas\n",
    "\n",
    "from riptide import TimeSeries, Periodogram, Metadata, ffa_search, generate_signal\n",
    "from riptide.reading import PrestoInf\n",
    "from riptide.periodogram import Periodogram"
   ]
  },
  {
   "cell_type": "markdown",
   "metadata": {},
   "source": [
    "## Generate some artificial data for test purposes"
   ]
  },
  {
   "cell_type": "code",
   "execution_count": 2,
   "metadata": {},
   "outputs": [
    {
     "name": "stdout",
     "output_type": "stream",
     "text": [
      "Period = 685.011748 ms\n"
     ]
    }
   ],
   "source": [
    "tsamp = 64e-6  # sampling time\n",
    "period = np.random.uniform(low=0.5, high=1.0) # signal period in seconds\n",
    "period_samples = period / tsamp  # signal period in samples\n",
    "nsamp = 2**23  # number of samples\n",
    "phi0 = np.random.uniform(low=0.0, high=1.0) # initial phase of the signal in number of periods\n",
    "\n",
    "### Generate the signal\n",
    "data = generate_signal(nsamp, period_samples, phi0, amplitude=0.2)\n",
    "print('Period = %.6f ms' % (period * 1000.0))"
   ]
  },
  {
   "cell_type": "code",
   "execution_count": 3,
   "metadata": {},
   "outputs": [
    {
     "name": "stdout",
     "output_type": "stream",
     "text": [
      "TimeSeries {nsamp = 8388608, tsamp = 6.4000e-05, tobs = 536.871}\n"
     ]
    }
   ],
   "source": [
    "time_series = TimeSeries(data, tsamp)\n",
    "print(time_series)\n",
    "ts, plan, pgram = ffa_search(time_series, period_min=0.50, period_max=1.0, bins_min=240, bins_max=260)"
   ]
  },
  {
   "cell_type": "code",
   "execution_count": 12,
   "metadata": {},
   "outputs": [
    {
     "name": "stdout",
     "output_type": "stream",
     "text": [
      "TimeSeries {nsamp = 56540160, tsamp = 6.4000e-05, tobs = 3618.570}\n"
     ]
    }
   ],
   "source": [
    "time_series = TimeSeries.from_presto_inf('/home/vmorello/work/presto_datfiles/J1921-0459_DM100.00.inf')\n",
    "#time_series = TimeSeries(data, tsamp)\n",
    "print(time_series)\n",
    "ts, plan, pgram = ffa_search(time_series, period_min=0.50, period_max=1.0, bins_min=240, bins_max=260)"
   ]
  },
  {
   "cell_type": "code",
   "execution_count": 6,
   "metadata": {},
   "outputs": [],
   "source": [
    "pgram.display(iwidth=0)"
   ]
  },
  {
   "cell_type": "code",
   "execution_count": 116,
   "metadata": {},
   "outputs": [
    {
     "data": {
      "text/plain": [
       "'19:21:25.2300'"
      ]
     },
     "execution_count": 116,
     "metadata": {},
     "output_type": "execute_result"
    }
   ],
   "source": [
    "inf = PrestoInf('/home/vmorello/work/presto_datfiles/J1921-0459_DM100.00.inf')\n",
    "inf.raj"
   ]
  },
  {
   "cell_type": "code",
   "execution_count": 32,
   "metadata": {},
   "outputs": [
    {
     "data": {
      "text/plain": [
       "'19h21m25.23s'"
      ]
     },
     "execution_count": 32,
     "metadata": {},
     "output_type": "execute_result"
    }
   ],
   "source": [
    "c = SkyCoord(inf.raj, inf.decj, unit=(uu.hour, uu.deg))\n",
    "c.ra.to_string(unit=uu.hour, pad=True, precision=2)"
   ]
  },
  {
   "cell_type": "code",
   "execution_count": 26,
   "metadata": {},
   "outputs": [
    {
     "name": "stdout",
     "output_type": "stream",
     "text": [
      "19:21:25.2300\n"
     ]
    }
   ],
   "source": [
    "print(inf.raj)"
   ]
  },
  {
   "cell_type": "code",
   "execution_count": 66,
   "metadata": {},
   "outputs": [
    {
     "name": "stdout",
     "output_type": "stream",
     "text": [
      "{'source': None, 'mjd': None, 'dm': 77.0, 'rajd': None, 'decjd': None}\n",
      "{'source': '__None', 'mjd': '__None', 'dm': 77.0, 'rajd': '__None', 'decjd': '__None'}\n"
     ]
    }
   ],
   "source": [
    "#md = Metadata.from_presto_inf(inf)\n",
    "md = Metadata(dm=77)\n",
    "print(md.to_dict())\n",
    "md.save_hdf5('/home/vmorello/metadata.h5')"
   ]
  },
  {
   "cell_type": "code",
   "execution_count": 63,
   "metadata": {},
   "outputs": [],
   "source": [
    "md = Metadata.load_hdf5('/home/vmorello/metadata.h5')"
   ]
  },
  {
   "cell_type": "code",
   "execution_count": 64,
   "metadata": {},
   "outputs": [
    {
     "data": {
      "text/plain": [
       "{'decjd': None, 'dm': 77.0, 'mjd': None, 'rajd': None, 'source': None}"
      ]
     },
     "execution_count": 64,
     "metadata": {},
     "output_type": "execute_result"
    }
   ],
   "source": [
    "md.to_dict()"
   ]
  },
  {
   "cell_type": "code",
   "execution_count": 30,
   "metadata": {},
   "outputs": [
    {
     "data": {
      "text/plain": [
       "Empty(dtype='f')"
      ]
     },
     "execution_count": 30,
     "metadata": {},
     "output_type": "execute_result"
    }
   ],
   "source": [
    "h5py.Empty('f')"
   ]
  },
  {
   "cell_type": "code",
   "execution_count": null,
   "metadata": {
    "collapsed": true
   },
   "outputs": [],
   "source": []
  }
 ],
 "metadata": {
  "kernelspec": {
   "display_name": "Python 3",
   "language": "python",
   "name": "python3"
  },
  "language_info": {
   "codemirror_mode": {
    "name": "ipython",
    "version": 3
   },
   "file_extension": ".py",
   "mimetype": "text/x-python",
   "name": "python",
   "nbconvert_exporter": "python",
   "pygments_lexer": "ipython3",
   "version": "3.6.1"
  }
 },
 "nbformat": 4,
 "nbformat_minor": 2
}
