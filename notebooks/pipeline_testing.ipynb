{
 "cells": [
  {
   "cell_type": "code",
   "execution_count": 1,
   "metadata": {
    "collapsed": true
   },
   "outputs": [],
   "source": [
    "%load_ext autoreload\n",
    "%autoreload 2\n",
    "\n",
    "from timeit import default_timer\n",
    "\n",
    "import numpy as np\n",
    "import matplotlib.pyplot as plt\n",
    "%matplotlib qt5\n",
    "\n",
    "from numpy import ceil\n",
    "import pandas\n",
    "\n",
    "from riptide import TimeSeries, Periodogram, ffa_search, generate_signal\n",
    "from riptide.reading import PrestoInf\n",
    "from riptide.periodogram import Periodogram"
   ]
  },
  {
   "cell_type": "markdown",
   "metadata": {},
   "source": [
    "## Generate some artificial data for test purposes"
   ]
  },
  {
   "cell_type": "code",
   "execution_count": 2,
   "metadata": {},
   "outputs": [
    {
     "name": "stdout",
     "output_type": "stream",
     "text": [
      "period = 764.309463 ms\n",
      "phi0   = 0.009308\n",
      "TimeSeries {nsamp = 8388608, tsamp = 1.0240e-03, tobs = 8589.935}\n"
     ]
    }
   ],
   "source": [
    "tsamp = 1024e-6  # sampling time\n",
    "period = np.random.uniform(low=0.5, high=1.0) # signal period in seconds\n",
    "nsamp = 2**23  # number of samples\n",
    "phi0 = np.random.uniform(low=0.0, high=1.0) # initial phase of the signal in number of periods\n",
    "\n",
    "### Generate the signal\n",
    "print('period = %.6f ms' % (period * 1000.0))\n",
    "print('phi0   = %.6f' % phi0)\n",
    "\n",
    "time_series = TimeSeries.generate(nsamp * tsamp, tsamp, period=period, phi0=phi0, ducy=0.02, amplitude=0.1)\n",
    "print(time_series)"
   ]
  },
  {
   "cell_type": "code",
   "execution_count": 3,
   "metadata": {
    "scrolled": true
   },
   "outputs": [
    {
     "name": "stdout",
     "output_type": "stream",
     "text": [
      "Number of samples  : 8388608\n",
      "Sampling time      : 1.024000e-03\n",
      "\n",
      "Width trials (bins): 1, 2, 3, 4, 6, 9, 13, 19, 28, 42\n",
      "\n",
      "   dsfactor     tsamp  bins_min  bins_max  period_min  period_max\n",
      "0  2.034505  0.002083       240       260    0.500000    0.541667\n",
      "1  2.204047  0.002257       240       260    0.541667    0.586806\n",
      "2  2.387718  0.002445       240       260    0.586806    0.635706\n",
      "3  2.586694  0.002649       240       260    0.635706    0.688682\n",
      "4  2.802252  0.002870       240       260    0.688682    0.746072\n",
      "5  3.035773  0.003109       240       260    0.746072    0.808244\n",
      "6  3.288754  0.003368       240       260    0.808244    0.875598\n",
      "7  3.562817  0.003648       240       260    0.875598    0.948564\n",
      "8  3.859719  0.003952       240       254    0.948564    1.003897\n"
     ]
    }
   ],
   "source": [
    "ts, plan, pgram = ffa_search(time_series, period_min=0.50, period_max=1.0, bins_min=240, bins_max=260, threads=2)\n",
    "print(plan)\n",
    "pgram.display()"
   ]
  },
  {
   "cell_type": "code",
   "execution_count": 5,
   "metadata": {},
   "outputs": [],
   "source": [
    "time_series.save_hdf5('time_series.h5')\n",
    "time_series2 = TimeSeries.load_hdf5('time_series.h5')\n",
    "\n",
    "pgram.save_hdf5('periodogram.h5')\n",
    "pgram2 = Periodogram.load_hdf5('periodogram.h5')"
   ]
  },
  {
   "cell_type": "code",
   "execution_count": 7,
   "metadata": {},
   "outputs": [],
   "source": [
    "pgram2.display()"
   ]
  },
  {
   "cell_type": "code",
   "execution_count": 5,
   "metadata": {},
   "outputs": [
    {
     "ename": "AttributeError",
     "evalue": "type object 'Metadata' has no attribute 'from_presto_inf'",
     "output_type": "error",
     "traceback": [
      "\u001b[0;31m---------------------------------------------------------------------------\u001b[0m",
      "\u001b[0;31mAttributeError\u001b[0m                            Traceback (most recent call last)",
      "\u001b[0;32m<ipython-input-5-332bb543ec45>\u001b[0m in \u001b[0;36m<module>\u001b[0;34m()\u001b[0m\n\u001b[0;32m----> 1\u001b[0;31m \u001b[0mtime_series\u001b[0m \u001b[0;34m=\u001b[0m \u001b[0mTimeSeries\u001b[0m\u001b[0;34m.\u001b[0m\u001b[0mfrom_presto_inf\u001b[0m\u001b[0;34m(\u001b[0m\u001b[0;34m'/home/vince/work/pulsars/presto_time_series/J1855+0307_DM400.00.inf'\u001b[0m\u001b[0;34m)\u001b[0m\u001b[0;34m\u001b[0m\u001b[0m\n\u001b[0m\u001b[1;32m      2\u001b[0m \u001b[0;31m#time_series = TimeSeries(data, tsamp)\u001b[0m\u001b[0;34m\u001b[0m\u001b[0;34m\u001b[0m\u001b[0m\n\u001b[1;32m      3\u001b[0m \u001b[0mprint\u001b[0m\u001b[0;34m(\u001b[0m\u001b[0mtime_series\u001b[0m\u001b[0;34m)\u001b[0m\u001b[0;34m\u001b[0m\u001b[0m\n\u001b[1;32m      4\u001b[0m \u001b[0mts\u001b[0m\u001b[0;34m,\u001b[0m \u001b[0mplan\u001b[0m\u001b[0;34m,\u001b[0m \u001b[0mpgram\u001b[0m \u001b[0;34m=\u001b[0m \u001b[0mffa_search\u001b[0m\u001b[0;34m(\u001b[0m\u001b[0mtime_series\u001b[0m\u001b[0;34m,\u001b[0m \u001b[0mperiod_min\u001b[0m\u001b[0;34m=\u001b[0m\u001b[0;36m0.50\u001b[0m\u001b[0;34m,\u001b[0m \u001b[0mperiod_max\u001b[0m\u001b[0;34m=\u001b[0m\u001b[0;36m1.0\u001b[0m\u001b[0;34m,\u001b[0m \u001b[0mbins_min\u001b[0m\u001b[0;34m=\u001b[0m\u001b[0;36m240\u001b[0m\u001b[0;34m,\u001b[0m \u001b[0mbins_max\u001b[0m\u001b[0;34m=\u001b[0m\u001b[0;36m260\u001b[0m\u001b[0;34m)\u001b[0m\u001b[0;34m\u001b[0m\u001b[0m\n\u001b[1;32m      5\u001b[0m \u001b[0mpgram\u001b[0m\u001b[0;34m.\u001b[0m\u001b[0mdisplay\u001b[0m\u001b[0;34m(\u001b[0m\u001b[0;34m)\u001b[0m\u001b[0;34m\u001b[0m\u001b[0m\n",
      "\u001b[0;32m/home/vince/repositories/riptide/time_series.py\u001b[0m in \u001b[0;36mfrom_presto_inf\u001b[0;34m(cls, fname)\u001b[0m\n\u001b[1;32m    109\u001b[0m     \u001b[0;32mdef\u001b[0m \u001b[0mfrom_presto_inf\u001b[0m\u001b[0;34m(\u001b[0m\u001b[0mcls\u001b[0m\u001b[0;34m,\u001b[0m \u001b[0mfname\u001b[0m\u001b[0;34m)\u001b[0m\u001b[0;34m:\u001b[0m\u001b[0;34m\u001b[0m\u001b[0m\n\u001b[1;32m    110\u001b[0m         \u001b[0minf\u001b[0m \u001b[0;34m=\u001b[0m \u001b[0mPrestoInf\u001b[0m\u001b[0;34m(\u001b[0m\u001b[0mfname\u001b[0m\u001b[0;34m)\u001b[0m\u001b[0;34m\u001b[0m\u001b[0m\n\u001b[0;32m--> 111\u001b[0;31m         \u001b[0mmetadata\u001b[0m \u001b[0;34m=\u001b[0m \u001b[0mMetadata\u001b[0m\u001b[0;34m.\u001b[0m\u001b[0mfrom_presto_inf\u001b[0m\u001b[0;34m(\u001b[0m\u001b[0minf\u001b[0m\u001b[0;34m)\u001b[0m\u001b[0;34m\u001b[0m\u001b[0m\n\u001b[0m\u001b[1;32m    112\u001b[0m         \u001b[0;32mreturn\u001b[0m \u001b[0mcls\u001b[0m\u001b[0;34m(\u001b[0m\u001b[0minf\u001b[0m\u001b[0;34m.\u001b[0m\u001b[0mload_data\u001b[0m\u001b[0;34m(\u001b[0m\u001b[0;34m)\u001b[0m\u001b[0;34m,\u001b[0m \u001b[0mtsamp\u001b[0m\u001b[0;34m=\u001b[0m\u001b[0minf\u001b[0m\u001b[0;34m.\u001b[0m\u001b[0mtsamp\u001b[0m\u001b[0;34m,\u001b[0m \u001b[0mmetadata\u001b[0m\u001b[0;34m=\u001b[0m\u001b[0mmetadata\u001b[0m\u001b[0;34m)\u001b[0m\u001b[0;34m\u001b[0m\u001b[0m\n\u001b[1;32m    113\u001b[0m \u001b[0;34m\u001b[0m\u001b[0m\n",
      "\u001b[0;31mAttributeError\u001b[0m: type object 'Metadata' has no attribute 'from_presto_inf'"
     ]
    }
   ],
   "source": [
    "time_series = TimeSeries.from_presto_inf('/home/vince/work/pulsars/presto_time_series/J1855+0307_DM400.00.inf')\n",
    "#time_series = TimeSeries(data, tsamp)\n",
    "print(time_series)\n",
    "ts, plan, pgram = ffa_search(time_series, period_min=0.50, period_max=1.0, bins_min=240, bins_max=260)\n",
    "pgram.display()"
   ]
  },
  {
   "cell_type": "code",
   "execution_count": 6,
   "metadata": {
    "collapsed": true
   },
   "outputs": [],
   "source": [
    "inf = PrestoInf('/home/vince/work/pulsars/presto_time_series/J1855+0307_DM400.00.inf')"
   ]
  },
  {
   "cell_type": "code",
   "execution_count": null,
   "metadata": {
    "collapsed": true
   },
   "outputs": [],
   "source": []
  }
 ],
 "metadata": {
  "kernelspec": {
   "display_name": "Python [default]",
   "language": "python",
   "name": "python3"
  },
  "language_info": {
   "codemirror_mode": {
    "name": "ipython",
    "version": 3
   },
   "file_extension": ".py",
   "mimetype": "text/x-python",
   "name": "python",
   "nbconvert_exporter": "python",
   "pygments_lexer": "ipython3",
   "version": "3.5.4"
  }
 },
 "nbformat": 4,
 "nbformat_minor": 2
}
