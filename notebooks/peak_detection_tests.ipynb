{
 "cells": [
  {
   "cell_type": "code",
   "execution_count": 1,
   "metadata": {
    "collapsed": true
   },
   "outputs": [],
   "source": [
    "%load_ext autoreload\n",
    "%autoreload 2\n",
    "\n",
    "from timeit import default_timer\n",
    "import numpy as np\n",
    "import matplotlib.pyplot as plt\n",
    "%matplotlib qt5\n",
    "\n",
    "from riptide import (\n",
    "    TimeSeries, ffa_search, SubIntegrations, find_peaks\n",
    "    )"
   ]
  },
  {
   "cell_type": "code",
   "execution_count": 2,
   "metadata": {},
   "outputs": [
    {
     "name": "stdout",
     "output_type": "stream",
     "text": [
      "TimeSeries {nsamp = 8702550, tsamp = 6.4000e-05, tobs = 556.963}\n",
      "Time: 3831.76 ms\n"
     ]
    }
   ],
   "source": [
    "time_series = TimeSeries.from_sigproc('/home/vince/work/pulsars/sigproc_time_series/J1927+0911.sigproc.tim')\n",
    "print(time_series)\n",
    "\n",
    "start = default_timer()\n",
    "ts, plan, pgram = ffa_search(time_series, period_min=0.25, period_max=4.0, bins_min=480, bins_max=520, rmed_width=4.0)\n",
    "end = default_timer()\n",
    "print('Time: {0:.2f} ms'.format(1.0e3 * (end - start)))\n",
    "pgram.display()"
   ]
  },
  {
   "cell_type": "code",
   "execution_count": 3,
   "metadata": {},
   "outputs": [
    {
     "name": "stdout",
     "output_type": "stream",
     "text": [
      "Time: 468.15 ms\n",
      "  0 Detection [P0 = 2.903342247e-01 s, W =  19, S/N =   7.35]\n",
      "  1 Detection [P0 = 1.054901600e+00 s, W =  94, S/N =  11.02]\n",
      "  2 Detection [P0 = 2.108677387e+00 s, W =  63, S/N =   9.40]\n"
     ]
    }
   ],
   "source": [
    "start = default_timer()\n",
    "dets, stats_tracker, polyco_tracker = find_peaks(\n",
    "    pgram,\n",
    "    segment_dftbins_length=40.0, \n",
    "    min_segments=8, \n",
    "    snr_min=7.0, \n",
    "    nsigma=7.0, \n",
    "    peak_clustering_radius=0.20, \n",
    "    polydeg=2\n",
    "    )\n",
    "end = default_timer()\n",
    "print('Time: {0:.2f} ms'.format(1.0e3 * (end - start)))\n",
    "\n",
    "dets = sorted(dets, key=lambda p: p.period, reverse=False)\n",
    "for ii, det in enumerate(dets):\n",
    "    print('{0:3d} {1!s}'.format(ii, det))"
   ]
  },
  {
   "cell_type": "code",
   "execution_count": 5,
   "metadata": {},
   "outputs": [],
   "source": [
    "det = dets[0]\n",
    "det.display()\n",
    "\n",
    "\n",
    "# plt.figure(figsize=(12, 6), dpi=75)\n",
    "# plt.subplot(211)\n",
    "# plt.imshow(\n",
    "#     det.snr_trials.T, aspect='auto', cmap=plt.cm.Greys\n",
    "#     )\n",
    "# plt.yticks(range(pgram.widths.size), pgram.widths)\n",
    "\n",
    "# plt.subplot(212)\n",
    "# dp = (det.period_trials - det.period) * 1e6\n",
    "# plt.plot(dp, det.snr_trials.max(axis=1))\n",
    "# plt.xlim(dp[0], dp[-1])\n",
    "# plt.xlabel('Delta Period (us)')\n",
    "# plt.grid(linestyle=':')\n",
    "# plt.tight_layout()\n",
    "# plt.show()"
   ]
  },
  {
   "cell_type": "code",
   "execution_count": 49,
   "metadata": {
    "collapsed": true
   },
   "outputs": [],
   "source": [
    "SubIntegrations.from_time_series(ts, det.period, nbins=1000, nsubs=300).display()"
   ]
  },
  {
   "cell_type": "code",
   "execution_count": 20,
   "metadata": {
    "collapsed": true
   },
   "outputs": [],
   "source": [
    "from matplotlib.gridspec import GridSpec"
   ]
  },
  {
   "cell_type": "code",
   "execution_count": 5,
   "metadata": {},
   "outputs": [
    {
     "data": {
      "text/plain": [
       "[Peak [P0 = 2.903327346e-01, W =   9, S/N =   7.52]]"
      ]
     },
     "execution_count": 5,
     "metadata": {},
     "output_type": "execute_result"
    }
   ],
   "source": [
    "det.peaks"
   ]
  },
  {
   "cell_type": "code",
   "execution_count": null,
   "metadata": {
    "collapsed": true
   },
   "outputs": [],
   "source": []
  }
 ],
 "metadata": {
  "kernelspec": {
   "display_name": "Python [conda root]",
   "language": "python",
   "name": "conda-root-py"
  },
  "language_info": {
   "codemirror_mode": {
    "name": "ipython",
    "version": 3
   },
   "file_extension": ".py",
   "mimetype": "text/x-python",
   "name": "python",
   "nbconvert_exporter": "python",
   "pygments_lexer": "ipython3",
   "version": "3.5.4"
  }
 },
 "nbformat": 4,
 "nbformat_minor": 2
}
