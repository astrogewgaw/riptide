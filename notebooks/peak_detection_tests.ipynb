{
 "cells": [
  {
   "cell_type": "code",
   "execution_count": 1,
   "metadata": {
    "collapsed": true
   },
   "outputs": [],
   "source": [
    "%load_ext autoreload\n",
    "%autoreload 2\n",
    "\n",
    "from timeit import default_timer\n",
    "import numpy as np\n",
    "import matplotlib.pyplot as plt\n",
    "%matplotlib qt5\n",
    "\n",
    "from riptide import (\n",
    "    TimeSeries, ffa_search, SubIntegrations, find_peaks\n",
    "    )"
   ]
  },
  {
   "cell_type": "code",
   "execution_count": 8,
   "metadata": {},
   "outputs": [
    {
     "name": "stdout",
     "output_type": "stream",
     "text": [
      "TimeSeries {nsamp = 8754411, tsamp = 6.4000e-05, tobs = 560.282}\n",
      "Time: 664.49 ms\n"
     ]
    }
   ],
   "source": [
    "time_series = TimeSeries.from_presto_inf('/home/vince/work/pulsars/presto_time_series/J1855+0307_DM400.00.inf')\n",
    "print(time_series)\n",
    "\n",
    "start = default_timer()\n",
    "ts, plan, pgram = ffa_search(time_series, period_min=0.5, period_max=4.0, bins_min=240, bins_max=260, rmed_width=4.0)\n",
    "end = default_timer()\n",
    "print('Time: {0:.2f} ms'.format(1.0e3 * (end - start)))\n",
    "pgram.display()"
   ]
  },
  {
   "cell_type": "code",
   "execution_count": 9,
   "metadata": {},
   "outputs": [
    {
     "name": "stdout",
     "output_type": "stream",
     "text": [
      "Time: 122.30 ms\n",
      "  0 Peak [P0 = 5.635766983e-01, W =   6, S/N =   9.50]\n",
      "  1 Peak [P0 = 8.453498483e-01, W =   4, S/N =  18.45]\n",
      "  2 Peak [P0 = 1.268013358e+00, W =   3, S/N =   7.49]\n",
      "  3 Peak [P0 = 1.690691590e+00, W =   3, S/N =  11.91]\n",
      "  4 Peak [P0 = 2.536031723e+00, W =   2, S/N =   9.39]\n",
      "  5 Peak [P0 = 3.381401062e+00, W =   1, S/N =   8.26]\n",
      "  6 Peak [P0 = 3.741457701e+00, W =  28, S/N =   9.42]\n"
     ]
    }
   ],
   "source": [
    "start = default_timer()\n",
    "peaks, stats_tracker, polyco_tracker = find_peaks(\n",
    "    pgram,\n",
    "    segment_dftbins_length=40.0, \n",
    "    min_segments=8, \n",
    "    snr_min=7.0, \n",
    "    nsigma=7.0, \n",
    "    peak_clustering_radius=0.20, \n",
    "    polydeg=2\n",
    "    )\n",
    "end = default_timer()\n",
    "print('Time: {0:.2f} ms'.format(1.0e3 * (end - start)))\n",
    "\n",
    "peaks = sorted(peaks, key=lambda p: p.period, reverse=False)\n",
    "for ii, peak in enumerate(peaks):\n",
    "    print('{0:3d} {1!s}'.format(ii, peak))"
   ]
  },
  {
   "cell_type": "code",
   "execution_count": 10,
   "metadata": {},
   "outputs": [],
   "source": [
    "peak = peaks[1]\n",
    "plt.figure(figsize=(12, 6), dpi=75)\n",
    "plt.subplot(211)\n",
    "plt.imshow(\n",
    "    peak.snr_trials.T, aspect='auto', cmap=plt.cm.Greys\n",
    "    )\n",
    "plt.yticks(range(pgram.widths.size), pgram.widths)\n",
    "\n",
    "plt.subplot(212)\n",
    "dp = (peak.period_trials - peak.period) * 1e6\n",
    "plt.plot(dp, peak.snr_trials.max(axis=1))\n",
    "plt.xlim(dp[0], dp[-1])\n",
    "plt.xlabel('Delta Period (us)')\n",
    "plt.grid(linestyle=':')\n",
    "plt.tight_layout()\n",
    "plt.show()"
   ]
  },
  {
   "cell_type": "code",
   "execution_count": 11,
   "metadata": {
    "collapsed": true
   },
   "outputs": [],
   "source": [
    "SubIntegrations.from_time_series(ts, peak.period, nbins=256, nsubs=128).display()"
   ]
  },
  {
   "cell_type": "code",
   "execution_count": null,
   "metadata": {
    "collapsed": true
   },
   "outputs": [],
   "source": []
  }
 ],
 "metadata": {
  "kernelspec": {
   "display_name": "Python [conda root]",
   "language": "python",
   "name": "conda-root-py"
  },
  "language_info": {
   "codemirror_mode": {
    "name": "ipython",
    "version": 3
   },
   "file_extension": ".py",
   "mimetype": "text/x-python",
   "name": "python",
   "nbconvert_exporter": "python",
   "pygments_lexer": "ipython3",
   "version": "3.5.4"
  }
 },
 "nbformat": 4,
 "nbformat_minor": 2
}
