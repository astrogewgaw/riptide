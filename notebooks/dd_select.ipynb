{
 "cells": [
  {
   "cell_type": "code",
   "execution_count": 1,
   "metadata": {},
   "outputs": [],
   "source": [
    "# Here we experiment on how to select the best subset of \n",
    "# dedispersed time series to search based on FFA search parameters.\n",
    "import os\n",
    "import glob\n",
    "import json\n",
    "\n",
    "%matplotlib qt5\n",
    "\n",
    "import numpy as np\n",
    "import matplotlib.pyplot as plt\n",
    "\n",
    "from riptide import TimeSeries, Metadata\n",
    "from riptide.reading import PrestoInf"
   ]
  },
  {
   "cell_type": "code",
   "execution_count": 101,
   "metadata": {},
   "outputs": [],
   "source": [
    "# 1. Get dm_max\n",
    "# 2. Get the list of ideal dm trials\n",
    "# 3. Get the list of available time series\n",
    "# 4. Get the list of available time series closest to each of the dm trials\n",
    "def dispersion_smearing_time(dm, freq, bw):\n",
    "    kdm = 4.148808e3\n",
    "    return 2 * kdm * dm * freq**-3 * bw\n",
    "\n",
    "def dispersion_measure(delay, fmin, fmax):\n",
    "    \"\"\" Dispersion measure as function of dispersion delay between two given frequencies \"\"\"\n",
    "    kdm = 4.148808e3\n",
    "    return delay / (kdm * abs(fmin**-2 - fmax**-2))\n",
    "\n",
    "def get_dm_max(skycoord, dmsinb_max=40.0, dm_max=1000.0):\n",
    "    \"\"\" Get an estimate of the maximum Galactic DM at given coordinates. \"\"\"\n",
    "    glat_radians = skycoord.galactic.b.rad\n",
    "    eps = 1e-6\n",
    "    return min(dm_max, dmsinb_max / np.sin(abs(glat_radians) + eps))\n",
    "\n",
    "def get_optimal_dm_trials(dm_min=0.0, dm_max=1000.0, tsamp=64e-6, wmin=2048e-6, fbot=1181.0, ftop=1581.0, nchans=1024):\n",
    "    fcenter = (fbot + ftop) / 2.0\n",
    "    cbw = abs(ftop - fbot) / nchans\n",
    "    \n",
    "    dm = dm_min \n",
    "    trials = []\n",
    "    while dm < dm_max:\n",
    "        trials.append(dm)\n",
    "        \n",
    "        tdisp = dispersion_smearing_time(dm, fcenter, cbw)\n",
    "        wsmear = (tsamp**2 + tdisp**2) ** 0.5\n",
    "        \n",
    "        # NOTE: This is basically saying:\n",
    "        # - We cannot resolve any event with an effective (post-smearing) width < Wmin\n",
    "        # - Below a certain DM value, the total smearing is lower than Wmin. Wmin determines the (fixed) DM step.\n",
    "        # - Above a certain DM value, the total smearing exceeds Wmin. It is now the\n",
    "        #   smearing that drives the DM trial spacing, which starts increasing as a function of DM.\n",
    "        half_step = dispersion_measure(max(wmin, wsmear), fbot, ftop)\n",
    "        dm = dm + 2 * half_step\n",
    "        \n",
    "    return np.asarray(trials)\n",
    "\n",
    "#############################################################################################\n",
    "    \n",
    "def load_time_series_metadata(directory, pattern='*.inf', fmt='presto'):\n",
    "    \"\"\" Returns a list of Metadata objects sorted by increasing DM. \"\"\"\n",
    "    fnames = glob.glob(os.path.join(directory, pattern))\n",
    "    fmt = fmt.lower()\n",
    "    if fmt == 'presto':\n",
    "        loader = Metadata.from_presto_inf\n",
    "    elif fmt == 'sigproc':\n",
    "        loader = Metadata.from_sigproc\n",
    "    else:\n",
    "        raise ValueError(\"Invalid input data format specifier '{:s}'\".format(fmt))\n",
    "    \n",
    "    mdlist = []\n",
    "    for fname in fnames:\n",
    "        md = loader(fname)\n",
    "        # NOTE: add a fname key with the full file path\n",
    "        md['fname'] = fname\n",
    "        md['marked'] = False\n",
    "        mdlist.append(md)\n",
    "    return sorted(mdlist, key=lambda md: md['dm'])\n",
    "    \n",
    "\n",
    "def time_series_iterator(directory, pattern='*.inf', fmt='presto', wmin=1024e-6, fbot=1181.0, ftop=1581.0, nchans=1024, dm_min=0.0, dmsinb_max=40.0, dm_max=400.0):\n",
    "    mdlist = load_time_series_metadata(directory, pattern=pattern, fmt=fmt)\n",
    "    mdlist = sorted(mdlist, key=lambda md: md['dm'])\n",
    "    \n",
    "    # Get minimum sampling time among target time series\n",
    "    tsamp = min(md['tsamp'] for md in mdlist)\n",
    "    print(\"tsamp = {:.6e}\".format(tsamp))\n",
    "    \n",
    "    # Get target coordinates\n",
    "    skycoord = mdlist[0]['skycoord']\n",
    "    print(skycoord)\n",
    "    \n",
    "    # Get DM limits\n",
    "    dm_max = get_dm_max(skycoord, dmsinb_max=dmsinb_max, dm_max=dm_max)\n",
    "    print(\"dm_max = {:.3f}\".format(dm_max))\n",
    "    \n",
    "    # Get optimal DM trials\n",
    "    optimal_dm_trials = get_optimal_dm_trials(\n",
    "        dm_min=dm_min, dm_max=dm_max, tsamp=tsamp, wmin=wmin, fbot=fbot, ftop=ftop, nchans=nchans\n",
    "        )\n",
    "    print(\"optimal number of DM trials = {:d}\".format(optimal_dm_trials.size))\n",
    "    \n",
    "    # Mark time series to search\n",
    "    available_dm_trials = np.asarray([md['dm'] for md in mdlist])\n",
    "    marked_indices = np.digitize(optimal_dm_trials, available_dm_trials) - 1\n",
    "    marked_indices = np.unique(np.maximum(0, marked_indices))\n",
    "    \n",
    "    # Get loader function\n",
    "    fmt = fmt.lower()\n",
    "    if fmt == 'presto':\n",
    "        loader = TimeSeries.from_presto_inf\n",
    "    elif fmt == 'sigproc':\n",
    "        loader = TimeSeries.from_sigproc\n",
    "    else:\n",
    "        raise ValueError(\"Invalid input data format specifier '{:s}'\".format(fmt))\n",
    "    \n",
    "    for ix in marked_indices:\n",
    "        fname = mdlist[ix]['fname']\n",
    "        yield loader(fname)\n",
    "    \n"
   ]
  },
  {
   "cell_type": "code",
   "execution_count": 105,
   "metadata": {},
   "outputs": [
    {
     "name": "stdout",
     "output_type": "stream",
     "text": [
      "tsamp = 6.400000e-05\n",
      "<SkyCoord (ICRS): (ra, dec) in deg\n",
      "    ( 283.7685,  3.04411111)>\n",
      "dm_max = 440.000\n",
      "optimal number of DM trials = 6\n",
      "360.0\n",
      "372.0\n",
      "388.0\n",
      "404.0\n",
      "420.0\n",
      "436.0\n"
     ]
    }
   ],
   "source": [
    "directory = '/home/vince/work/pulsars/presto_time_series/J1855+0307/'\n",
    "pattern = '*.inf'\n",
    "load_time_series_metadata(directory, pattern=pattern, fmt='presto')\n",
    "\n",
    "for x in time_series_iterator(directory, pattern=pattern, dm_min=360.0, dm_max=440.0, wmin=10e-3):\n",
    "    print(x.metadata['dm'])\n"
   ]
  },
  {
   "cell_type": "code",
   "execution_count": 9,
   "metadata": {},
   "outputs": [],
   "source": [
    "dm_trials = get_optimal_dm_trials(dm_min=0.0, dm_max=500.0, tsamp=491.52e-6, wmin=2e-3, fbot=103.61, ftop=135.25, nchans=2592)"
   ]
  },
  {
   "cell_type": "code",
   "execution_count": 135,
   "metadata": {},
   "outputs": [],
   "source": [
    "plt.figure()\n",
    "plt.plot(dm_trials[:-1], np.diff(dm_trials))\n",
    "plt.grid()\n",
    "plt.show()"
   ]
  },
  {
   "cell_type": "code",
   "execution_count": 10,
   "metadata": {},
   "outputs": [
    {
     "data": {
      "text/plain": [
       "4948"
      ]
     },
     "execution_count": 10,
     "metadata": {},
     "output_type": "execute_result"
    }
   ],
   "source": [
    "dm_trials.size"
   ]
  },
  {
   "cell_type": "code",
   "execution_count": 130,
   "metadata": {},
   "outputs": [
    {
     "data": {
      "text/plain": [
       "7.677063139508884e-07"
      ]
     },
     "execution_count": 130,
     "metadata": {},
     "output_type": "execute_result"
    }
   ],
   "source": [
    "dispersion_smearing_time(dm_trials[1]/2, 119.4, 0.01221)"
   ]
  },
  {
   "cell_type": "code",
   "execution_count": 131,
   "metadata": {},
   "outputs": [
    {
     "data": {
      "text/plain": [
       "0.002059512541938019"
      ]
     },
     "execution_count": 131,
     "metadata": {},
     "output_type": "execute_result"
    }
   ],
   "source": [
    "(2e-3 **2 + 0.49152e-3 ** 2) **0.5"
   ]
  },
  {
   "cell_type": "code",
   "execution_count": 12,
   "metadata": {},
   "outputs": [
    {
     "ename": "NameError",
     "evalue": "name 'directory' is not defined",
     "output_type": "error",
     "traceback": [
      "\u001b[0;31m---------------------------------------------------------------------------\u001b[0m",
      "\u001b[0;31mNameError\u001b[0m                                 Traceback (most recent call last)",
      "\u001b[0;32m<ipython-input-12-7ecdda351924>\u001b[0m in \u001b[0;36m<module>\u001b[0;34m()\u001b[0m\n\u001b[0;32m----> 1\u001b[0;31m \u001b[0mmds\u001b[0m \u001b[0;34m=\u001b[0m \u001b[0mload_time_series_metadata\u001b[0m\u001b[0;34m(\u001b[0m\u001b[0mdirectory\u001b[0m\u001b[0;34m)\u001b[0m\u001b[0;34m\u001b[0m\u001b[0m\n\u001b[0m",
      "\u001b[0;31mNameError\u001b[0m: name 'directory' is not defined"
     ]
    }
   ],
   "source": []
  },
  {
   "cell_type": "code",
   "execution_count": 52,
   "metadata": {},
   "outputs": [
    {
     "data": {
      "text/plain": [
       "Metadata\n",
       "{'analyst': 'Scott Ransom',\n",
       " 'bandwidth': 400.0,\n",
       " 'barycentered': True,\n",
       " 'basename': 'J1855+0307_DM360.00',\n",
       " 'bdiam': 981.0,\n",
       " 'breaks': False,\n",
       " 'cbw': 0.390625,\n",
       " 'decj': '03:02:38.8000',\n",
       " 'dm': 360.0,\n",
       " 'fbot': 1182.1953125,\n",
       " 'instrument': '????',\n",
       " 'mjd': 56937.40513649563,\n",
       " 'nchan': 1024,\n",
       " 'nsamp': 8754411,\n",
       " 'observer': 'Unknown',\n",
       " 'obstype': 'Radio',\n",
       " 'raj': '18:55:04.4400',\n",
       " 'skycoord': <SkyCoord (ICRS): (ra, dec) in deg\n",
       "    ( 283.7685,  3.04411111)>,\n",
       " 'source': 'G036.5+00.6_s',\n",
       " 'source_name': 'G036.5+00.6_s',\n",
       " 'telescope': 'Parkes',\n",
       " 'tobs': None,\n",
       " 'tsamp': 6.4e-05}"
      ]
     },
     "execution_count": 52,
     "metadata": {},
     "output_type": "execute_result"
    }
   ],
   "source": [
    "load_time_series_metadata(directory)[0]"
   ]
  },
  {
   "cell_type": "code",
   "execution_count": 87,
   "metadata": {},
   "outputs": [
    {
     "data": {
      "text/plain": [
       "array([1])"
      ]
     },
     "execution_count": 87,
     "metadata": {},
     "output_type": "execute_result"
    }
   ],
   "source": [
    "np.digitize([1], [0,1,2,3,4]) - 1"
   ]
  },
  {
   "cell_type": "code",
   "execution_count": null,
   "metadata": {
    "collapsed": true
   },
   "outputs": [],
   "source": []
  }
 ],
 "metadata": {
  "kernelspec": {
   "display_name": "Python [conda root]",
   "language": "python",
   "name": "conda-root-py"
  },
  "language_info": {
   "codemirror_mode": {
    "name": "ipython",
    "version": 3
   },
   "file_extension": ".py",
   "mimetype": "text/x-python",
   "name": "python",
   "nbconvert_exporter": "python",
   "pygments_lexer": "ipython3",
   "version": "3.5.4"
  }
 },
 "nbformat": 4,
 "nbformat_minor": 2
}
