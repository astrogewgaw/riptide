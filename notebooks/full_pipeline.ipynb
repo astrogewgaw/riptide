{
 "cells": [
  {
   "cell_type": "code",
   "execution_count": 1,
   "metadata": {
    "collapsed": true
   },
   "outputs": [],
   "source": [
    "%load_ext autoreload\n",
    "%autoreload 2\n",
    "%matplotlib qt5\n",
    "\n",
    "import numpy as np\n",
    "import matplotlib.pyplot as plt\n",
    "\n",
    "from riptide import TimeSeries, ffa_search, find_peaks, SubIntegrations\n",
    "from riptide.pipelines.pipeline import time_series_iterator\n",
    "from riptide.clustering import cluster_1d\n",
    "\n",
    "from riptide.pipelines.pipeline import Pipeline, DetectionCluster\n",
    "from riptide.pipelines.candidate import Candidate\n"
   ]
  },
  {
   "cell_type": "code",
   "execution_count": 5,
   "metadata": {
    "collapsed": true
   },
   "outputs": [],
   "source": [
    "config_fname = '/home/vince/repositories/riptide/pipelines/example_config.yaml' \n",
    "input_dir = '/home/vince/work/pulsars/presto_time_series/J1855+0307/'\n",
    "output_dir = '/home/vince/work/pulsars/presto_time_series/J1855+0307/'\n",
    "pl = Pipeline(config_fname, input_dir, output_dir, pattern='*DM40*.inf')"
   ]
  },
  {
   "cell_type": "code",
   "execution_count": 6,
   "metadata": {},
   "outputs": [
    {
     "name": "stderr",
     "output_type": "stream",
     "text": [
      "2017-10-11,08:55:46.926: Computing Periodogram @ DM = 400.000\n",
      "2017-10-11,08:55:51.984: Finding Peaks @ DM = 400.000\n",
      "2017-10-11,08:55:52.672: New Detections: 21\n",
      "2017-10-11,08:55:52.673: Total Detections: 21\n",
      "2017-10-11,08:55:52.673: Clustering Detections ...\n",
      "2017-10-11,08:55:52.674: Total Clusters: 21\n",
      "2017-10-11,08:55:52.675: TimeSeries in RAM: 1\n",
      "2017-10-11,08:55:52.691: Computing Periodogram @ DM = 404.000\n",
      "2017-10-11,08:55:57.740: Finding Peaks @ DM = 404.000\n",
      "2017-10-11,08:55:58.426: New Detections: 20\n",
      "2017-10-11,08:55:58.427: Total Detections: 41\n",
      "2017-10-11,08:55:58.427: Clustering Detections ...\n",
      "2017-10-11,08:55:58.428: Total Clusters: 21\n",
      "2017-10-11,08:55:58.429: TimeSeries in RAM: 2\n",
      "2017-10-11,08:55:58.445: Computing Periodogram @ DM = 408.000\n",
      "2017-10-11,08:56:03.493: Finding Peaks @ DM = 408.000\n",
      "2017-10-11,08:56:04.176: New Detections: 19\n",
      "2017-10-11,08:56:04.177: Total Detections: 60\n",
      "2017-10-11,08:56:04.177: Clustering Detections ...\n",
      "2017-10-11,08:56:04.178: Total Clusters: 23\n",
      "2017-10-11,08:56:04.179: TimeSeries in RAM: 3\n",
      "2017-10-11,08:56:04.180: Creating Candidate from group of 3 detections\n",
      "2017-10-11,08:56:04.181: Re-sampling PW planes with: pmin = 1.261211586e+01, pmax = 1.290128613e+01, num_periods =  503\n",
      "2017-10-11,08:56:04.182: Failed to build SubIntegrations: Requested number of sub-integrations is too high (requested = 128, max. acceptable = 43)\n",
      "2017-10-11,08:56:04.182: Creating Candidate from group of 1 detections\n",
      "2017-10-11,08:56:04.183: Re-sampling PW planes with: pmin = 8.390041351e+00, pmax = 8.517320633e+00, num_periods =  507\n",
      "2017-10-11,08:56:04.184: Failed to build SubIntegrations: Requested number of sub-integrations is too high (requested = 128, max. acceptable = 66)\n",
      "2017-10-11,08:56:04.184: Creating Candidate from group of 3 detections\n",
      "2017-10-11,08:56:04.185: Re-sampling PW planes with: pmin = 7.556930542e+00, pmax = 7.659813881e+00, num_periods =  495\n",
      "2017-10-11,08:56:04.186: Failed to build SubIntegrations: Requested number of sub-integrations is too high (requested = 128, max. acceptable = 73)\n",
      "2017-10-11,08:56:04.187: Creating Candidate from group of 3 detections\n",
      "2017-10-11,08:56:04.188: Re-sampling PW planes with: pmin = 7.431107521e+00, pmax = 7.528029442e+00, num_periods =  486\n",
      "2017-10-11,08:56:04.190: Failed to build SubIntegrations: Requested number of sub-integrations is too high (requested = 128, max. acceptable = 74)\n",
      "2017-10-11,08:56:04.190: Creating Candidate from group of 1 detections\n",
      "2017-10-11,08:56:04.191: Re-sampling PW planes with: pmin = 6.722544193e+00, pmax = 6.803998470e+00, num_periods =  500\n",
      "2017-10-11,08:56:04.192: Failed to build SubIntegrations: Requested number of sub-integrations is too high (requested = 128, max. acceptable = 82)\n",
      "2017-10-11,08:56:04.193: Creating Candidate from group of 3 detections\n",
      "2017-10-11,08:56:04.193: Re-sampling PW planes with: pmin = 5.886719704e+00, pmax = 5.948558331e+00, num_periods =  490\n",
      "2017-10-11,08:56:04.195: Failed to build SubIntegrations: Requested number of sub-integrations is too high (requested = 128, max. acceptable = 94)\n",
      "2017-10-11,08:56:04.195: Creating Candidate from group of 3 detections\n",
      "2017-10-11,08:56:04.196: Re-sampling PW planes with: pmin = 5.049310684e+00, pmax = 5.095022202e+00, num_periods =  493\n",
      "2017-10-11,08:56:04.197: Failed to build SubIntegrations: Requested number of sub-integrations is too high (requested = 128, max. acceptable = 110)\n",
      "2017-10-11,08:56:04.198: Creating Candidate from group of 3 detections\n",
      "2017-10-11,08:56:04.198: Re-sampling PW planes with: pmin = 4.211003304e+00, pmax = 4.242700577e+00, num_periods =  483\n",
      "2017-10-11,08:56:04.212: Creating Candidate from group of 3 detections\n",
      "2017-10-11,08:56:04.213: Re-sampling PW planes with: pmin = 3.729811430e+00, pmax = 3.752650023e+00, num_periods =  503\n",
      "2017-10-11,08:56:04.228: Creating Candidate from group of 3 detections\n",
      "2017-10-11,08:56:04.229: Re-sampling PW planes with: pmin = 3.371277332e+00, pmax = 3.391625643e+00, num_periods =  492\n",
      "2017-10-11,08:56:04.244: Creating Candidate from group of 3 detections\n",
      "2017-10-11,08:56:04.245: Re-sampling PW planes with: pmin = 2.530337811e+00, pmax = 2.541786432e+00, num_periods =  509\n",
      "2017-10-11,08:56:04.259: Creating Candidate from group of 2 detections\n",
      "2017-10-11,08:56:04.260: Re-sampling PW planes with: pmin = 2.109431982e+00, pmax = 2.117326021e+00, num_periods =  498\n",
      "2017-10-11,08:56:04.275: Creating Candidate from group of 1 detections\n",
      "2017-10-11,08:56:04.276: Re-sampling PW planes with: pmin = 1.866602421e+00, pmax = 1.872825027e+00, num_periods =  516\n",
      "2017-10-11,08:56:04.291: Creating Candidate from group of 3 detections\n",
      "2017-10-11,08:56:04.292: Re-sampling PW planes with: pmin = 1.688178897e+00, pmax = 1.693257928e+00, num_periods =  507\n",
      "2017-10-11,08:56:04.308: Creating Candidate from group of 2 detections\n",
      "2017-10-11,08:56:04.308: Re-sampling PW planes with: pmin = 1.407166719e+00, pmax = 1.410698891e+00, num_periods =  494\n",
      "2017-10-11,08:56:04.325: Creating Candidate from group of 3 detections\n",
      "2017-10-11,08:56:04.326: Re-sampling PW planes with: pmin = 1.266600132e+00, pmax = 1.269454718e+00, num_periods =  482\n",
      "2017-10-11,08:56:04.344: Creating Candidate from group of 3 detections\n",
      "2017-10-11,08:56:04.345: Re-sampling PW planes with: pmin = 1.126017451e+00, pmax = 1.128269792e+00, num_periods =  504\n",
      "2017-10-11,08:56:04.363: Creating Candidate from group of 3 detections\n",
      "2017-10-11,08:56:04.364: Re-sampling PW planes with: pmin = 8.447202444e-01, pmax = 8.459898829e-01, num_periods =  481\n",
      "2017-10-11,08:56:04.400: Creating Candidate from group of 2 detections\n",
      "2017-10-11,08:56:04.401: Re-sampling PW planes with: pmin = 6.336570382e-01, pmax = 6.343694329e-01, num_periods =  495\n",
      "2017-10-11,08:56:04.425: Creating Candidate from group of 3 detections\n",
      "2017-10-11,08:56:04.426: Re-sampling PW planes with: pmin = 5.632942915e-01, pmax = 5.638570189e-01, num_periods =  517\n",
      "2017-10-11,08:56:04.451: Creating Candidate from group of 3 detections\n",
      "2017-10-11,08:56:04.452: Re-sampling PW planes with: pmin = 4.225174189e-01, pmax = 4.228343666e-01, num_periods =  493\n",
      "2017-10-11,08:56:04.479: Creating Candidate from group of 3 detections\n",
      "2017-10-11,08:56:04.480: Re-sampling PW planes with: pmin = 2.817149758e-01, pmax = 2.818556726e-01, num_periods =  490\n",
      "2017-10-11,08:56:04.515: Creating Candidate from group of 3 detections\n",
      "2017-10-11,08:56:04.516: Re-sampling PW planes with: pmin = 2.112977803e-01, pmax = 2.113773376e-01, num_periods =  507\n"
     ]
    }
   ],
   "source": [
    "pl.run()"
   ]
  },
  {
   "cell_type": "code",
   "execution_count": 7,
   "metadata": {},
   "outputs": [
    {
     "name": "stdout",
     "output_type": "stream",
     "text": [
      "DetectionCluster [size =    3, P0 = 1.275550079e+01, DM =  400.000, S/N =   7.90]\n",
      "Detection [P0 = 1.275550079e+01, W =   9, DM =  400.000, S/N =   7.90]\n",
      "DetectionCluster [size =    1, P0 = 8.453228951e+00, DM =  408.000, S/N =   6.55]\n",
      "Detection [P0 = 8.453228951e+00, W =   3, DM =  408.000, S/N =   6.55]\n",
      "DetectionCluster [size =    3, P0 = 7.608142853e+00, DM =  404.000, S/N =   7.03]\n",
      "Detection [P0 = 7.608142853e+00, W =   1, DM =  404.000, S/N =   7.03]\n",
      "DetectionCluster [size =    3, P0 = 7.478675365e+00, DM =  404.000, S/N =  10.16]\n",
      "Detection [P0 = 7.478675365e+00, W =  42, DM =  404.000, S/N =  10.16]\n",
      "DetectionCluster [size =    1, P0 = 6.763092041e+00, DM =  400.000, S/N =   6.55]\n",
      "Detection [P0 = 6.763092041e+00, W =   2, DM =  400.000, S/N =   6.55]\n",
      "DetectionCluster [size =    3, P0 = 5.917754173e+00, DM =  408.000, S/N =   7.53]\n",
      "Detection [P0 = 5.917754173e+00, W =   3, DM =  408.000, S/N =   7.53]\n",
      "DetectionCluster [size =    3, P0 = 5.072118282e+00, DM =  400.000, S/N =   7.60]\n",
      "Detection [P0 = 5.072118282e+00, W =   2, DM =  400.000, S/N =   7.60]\n",
      "DetectionCluster [size =    3, P0 = 4.226707458e+00, DM =  400.000, S/N =   8.19]\n",
      "Detection [P0 = 4.226707458e+00, W =   2, DM =  400.000, S/N =   8.19]\n",
      "DetectionCluster [size =    3, P0 = 3.740167856e+00, DM =  404.000, S/N =  10.19]\n",
      "Detection [P0 = 3.740167856e+00, W =  94, DM =  404.000, S/N =  10.19]\n",
      "DetectionCluster [size =    3, P0 = 3.381443739e+00, DM =  404.000, S/N =   9.79]\n",
      "Detection [P0 = 3.381443739e+00, W =   2, DM =  404.000, S/N =   9.79]\n",
      "DetectionCluster [size =    3, P0 = 2.536056757e+00, DM =  400.000, S/N =  12.12]\n",
      "Detection [P0 = 2.536056757e+00, W =   3, DM =  400.000, S/N =  12.12]\n",
      "DetectionCluster [size =    2, P0 = 2.113402128e+00, DM =  404.000, S/N =   6.73]\n",
      "Detection [P0 = 2.113402128e+00, W =   2, DM =  404.000, S/N =   6.73]\n",
      "DetectionCluster [size =    1, P0 = 1.869706631e+00, DM =  408.000, S/N =   7.16]\n",
      "Detection [P0 = 1.869706631e+00, W =  63, DM =  408.000, S/N =   7.16]\n",
      "DetectionCluster [size =    3, P0 = 1.690705299e+00, DM =  400.000, S/N =  12.96]\n",
      "Detection [P0 = 1.690705299e+00, W =   4, DM =  400.000, S/N =  12.96]\n",
      "DetectionCluster [size =    2, P0 = 1.408932090e+00, DM =  404.000, S/N =   7.14]\n",
      "Detection [P0 = 1.408932090e+00, W =   4, DM =  404.000, S/N =   7.14]\n",
      "DetectionCluster [size =    3, P0 = 1.268023491e+00, DM =  400.000, S/N =   8.60]\n",
      "Detection [P0 = 1.268023491e+00, W =   6, DM =  400.000, S/N =   8.60]\n",
      "DetectionCluster [size =    3, P0 = 1.127136230e+00, DM =  400.000, S/N =   7.04]\n",
      "Detection [P0 = 1.127136230e+00, W =   6, DM =  400.000, S/N =   7.04]\n",
      "DetectionCluster [size =    3, P0 = 8.453541398e-01, DM =  400.000, S/N =  18.20]\n",
      "Detection [P0 = 8.453541398e-01, W =   9, DM =  400.000, S/N =  18.20]\n",
      "DetectionCluster [size =    2, P0 = 6.340119243e-01, DM =  404.000, S/N =   7.17]\n",
      "Detection [P0 = 6.340119243e-01, W =   9, DM =  404.000, S/N =   7.17]\n",
      "DetectionCluster [size =    3, P0 = 5.635738969e-01, DM =  400.000, S/N =   9.79]\n",
      "Detection [P0 = 5.635738969e-01, W =  13, DM =  400.000, S/N =   9.79]\n",
      "DetectionCluster [size =    3, P0 = 4.226758480e-01, DM =  404.000, S/N =  13.89]\n",
      "Detection [P0 = 4.226758480e-01, W =  13, DM =  404.000, S/N =  13.89]\n",
      "DetectionCluster [size =    3, P0 = 2.817849815e-01, DM =  400.000, S/N =  13.07]\n",
      "Detection [P0 = 2.817849815e-01, W =  28, DM =  400.000, S/N =  13.07]\n",
      "DetectionCluster [size =    3, P0 = 2.113375515e-01, DM =  404.000, S/N =  11.12]\n",
      "Detection [P0 = 2.113375515e-01, W =  28, DM =  404.000, S/N =  11.12]\n",
      "0 12.7555\n",
      "1 8.45323\n",
      "2 7.60814\n",
      "3 7.47868\n",
      "4 6.76309\n",
      "5 5.91775\n",
      "6 5.07212\n",
      "7 4.22671\n",
      "8 3.74017\n",
      "9 3.38144\n",
      "10 2.53606\n",
      "11 2.1134\n",
      "12 1.86971\n",
      "13 1.69071\n",
      "14 1.40893\n",
      "15 1.26802\n",
      "16 1.12714\n",
      "17 0.845354\n",
      "18 0.634012\n",
      "19 0.563574\n",
      "20 0.422676\n",
      "21 0.281785\n",
      "22 0.211338\n"
     ]
    }
   ],
   "source": [
    "for cl in pl.clusters:\n",
    "    print(cl)\n",
    "    print(cl.top_detection)\n",
    "\n",
    "for ii, cand in enumerate(pl.candidates):\n",
    "    print(ii, cand.metadata['best_period'])"
   ]
  },
  {
   "cell_type": "code",
   "execution_count": 46,
   "metadata": {
    "collapsed": true
   },
   "outputs": [],
   "source": [
    "#cand = pl.candidates[17]\n",
    "cube = cand.dpw_cube\n",
    "dm_trials = np.sort(cand.dm_trials)\n",
    "\n",
    "plt.figure(figsize=(14, 4))\n",
    "plt.imshow(\n",
    "    cube[:, :, 6],\n",
    "    )\n",
    "plt.colorbar(orientation='horizontal')\n",
    "plt.tight_layout()\n",
    "plt.show()\n",
    "\n",
    "\n",
    "cand.subints.display(dpi=80)"
   ]
  },
  {
   "cell_type": "code",
   "execution_count": 14,
   "metadata": {
    "collapsed": true
   },
   "outputs": [],
   "source": [
    "class Const(object):\n",
    "    kdm = 4.148808e3\n",
    "\n",
    "def dispersion_delay(dm, fmin, fmax):\n",
    "    \"\"\" Dispersion delay between two given frequencies \"\"\"\n",
    "    return Const.kdm * dm * abs(fmin**-2 - fmax**-2)\n",
    "\n",
    "def dispersion_smearing_time(dm, freq, bw):\n",
    "    return 2 * Const.kdm * dm * freq**-3 * bw\n",
    "\n",
    "def dispersion_measure(delay, fmin, fmax):\n",
    "    \"\"\" Dispersion measure as function of dispersion delay between two given frequencies \"\"\"\n",
    "    return delay / (Const.kdm * abs(fmin**-2 - fmax**-2))\n",
    "\n",
    "def diagonal_dm(tsamp, freq, bw):\n",
    "    \"\"\" DM at which the dispersion smearing time is equal to the sampling time \"\"\"\n",
    "    return tsamp / (2 * Const.kdm * freq**-3 * bw)\n",
    "\n",
    "def select_dm_trials(trials, freq, bw, max_smear):\n",
    "    \"\"\" Given a list of DM trials, select only those required to keep the total s\"\"\""
   ]
  },
  {
   "cell_type": "code",
   "execution_count": 20,
   "metadata": {},
   "outputs": [
    {
     "data": {
      "text/plain": [
       "0.0034888046178830367"
      ]
     },
     "execution_count": 20,
     "metadata": {},
     "output_type": "execute_result"
    }
   ],
   "source": [
    "dispersion_smearing_time(100.0, 143.0, 48.0/3904)"
   ]
  },
  {
   "cell_type": "code",
   "execution_count": 19,
   "metadata": {},
   "outputs": [
    {
     "data": {
      "text/plain": [
       "0.0004911896752691573"
      ]
     },
     "execution_count": 19,
     "metadata": {},
     "output_type": "execute_result"
    }
   ],
   "source": [
    "dispersion_smearing_time(400.0, 1382.0, 400.0/1024)"
   ]
  },
  {
   "cell_type": "code",
   "execution_count": 26,
   "metadata": {
    "collapsed": true
   },
   "outputs": [],
   "source": [
    "det = pl.clusters[0][1]"
   ]
  },
  {
   "cell_type": "code",
   "execution_count": 28,
   "metadata": {},
   "outputs": [
    {
     "data": {
      "text/plain": [
       "(250, 10)"
      ]
     },
     "execution_count": 28,
     "metadata": {},
     "output_type": "execute_result"
    }
   ],
   "source": [
    "det.snr_trials.shape"
   ]
  },
  {
   "cell_type": "code",
   "execution_count": 25,
   "metadata": {},
   "outputs": [
    {
     "data": {
      "text/plain": [
       "Metadata\n",
       "{'analyst': 'Scott Ransom',\n",
       " 'bandwidth': 400.0,\n",
       " 'barycentered': True,\n",
       " 'basename': 'J1855+0307_DM404.00',\n",
       " 'bdiam': 981.0,\n",
       " 'best_dm': 404.0,\n",
       " 'best_period': 0.84535116,\n",
       " 'best_snr': 18.1306,\n",
       " 'best_width': 4,\n",
       " 'breaks': False,\n",
       " 'cbw': 0.390625,\n",
       " 'decj': '03:02:38.8000',\n",
       " 'dm': 404.0,\n",
       " 'fbot': 1182.1953125,\n",
       " 'instrument': '????',\n",
       " 'mjd': 56937.40513565126,\n",
       " 'nchan': 1024,\n",
       " 'nsamp': 8754411,\n",
       " 'observer': 'Unknown',\n",
       " 'obstype': 'Radio',\n",
       " 'raj': '18:55:04.4400',\n",
       " 'skycoord': <SkyCoord (ICRS): (ra, dec) in deg\n",
       "    ( 283.7685,  3.04411111)>,\n",
       " 'source': 'G036.5+00.6_s',\n",
       " 'source_name': 'G036.5+00.6_s',\n",
       " 'telescope': 'Parkes',\n",
       " 'tobs': 560.282304,\n",
       " 'tsamp': 6.4e-05}"
      ]
     },
     "execution_count": 25,
     "metadata": {},
     "output_type": "execute_result"
    }
   ],
   "source": [
    "pl.candidates[0].metadata"
   ]
  },
  {
   "cell_type": "code",
   "execution_count": 21,
   "metadata": {},
   "outputs": [
    {
     "data": {
      "text/plain": [
       "5.0"
      ]
     },
     "execution_count": 21,
     "metadata": {},
     "output_type": "execute_result"
    }
   ],
   "source": [
    "np.median([0,1,2,5,9,11,33221])"
   ]
  },
  {
   "cell_type": "code",
   "execution_count": 2,
   "metadata": {
    "collapsed": true
   },
   "outputs": [],
   "source": [
    "cand = Candidate.load_hdf5('/home/vince/pulsar.h5')"
   ]
  },
  {
   "cell_type": "code",
   "execution_count": 45,
   "metadata": {},
   "outputs": [],
   "source": [
    "from matplotlib.gridspec import GridSpec\n",
    "\n",
    "st = cand.dpw_cube\n",
    "dt = np.sort(cand.dm_trials)\n",
    "wt = cand.width_trials\n",
    "pt = cand.period_trials\n",
    "\n",
    "# Delta period in microseconds\n",
    "dp = 1.0e6 * (pt - cand.metadata['best_period'])\n",
    "\n",
    "# Delta period step\n",
    "dp_step = np.diff(dp).mean()\n",
    "\n",
    "# X-axis limits\n",
    "xmin = dp[0]  - 0.5*dp_step\n",
    "xmax = dp[-1] + 0.5*dp_step\n",
    "\n",
    "gs = GridSpec(2, 1, height_ratios=(10, 1))\n",
    "\n",
    "plt.figure(figsize=(10,5))\n",
    "plt.subplot(gs[0, 0])\n",
    "image = plt.imshow(\n",
    "    st[:,:,6],\n",
    "    extent=[dp[0]-0.5*dp_step, dp[-1]+0.5*dp_step, dt[0], dt[-1]],\n",
    "    aspect='auto',\n",
    "    origin='lower'\n",
    "    )\n",
    "plt.ylabel('DM', fontsize=12)\n",
    "plt.xlabel('Trial Period - P0 (us)', fontsize=12)\n",
    "plt.title(\n",
    "    \"P0 = {period:.6f} ms, DM = {dm:.3f}\".format(period=1e3*cand.metadata['best_period'], dm=cand.metadata['best_dm'])\n",
    "    )\n",
    "\n",
    "plt.subplot(gs[1, 0])\n",
    "cb = plt.colorbar(image, cax=plt.gca(), orientation='horizontal')\n",
    "cb.set_label(label='S/N', size=12)\n",
    "\n",
    "# plt.subplot(gs[1, 0])\n",
    "# plt.plot(dp, st[:, self.iw], label='S/N at W = {0:d}'.format(self.width))\n",
    "# plt.xlabel('Delta Period (us)', fontsize=12)\n",
    "# plt.xlim(xmin, xmax)\n",
    "# plt.grid(linestyle=':')\n",
    "# plt.legend(loc='upper left')\n",
    "plt.tight_layout()\n",
    "plt.show()"
   ]
  },
  {
   "cell_type": "code",
   "execution_count": 28,
   "metadata": {},
   "outputs": [
    {
     "data": {
      "text/plain": [
       "array([ 26.54999924,  26.39999962,  26.35000038,  26.04999924,\n",
       "        26.10000038,  26.14999962,  26.25      ,  26.20000076,\n",
       "        26.29999924,  26.5       ,  24.79999924,  24.85000038,\n",
       "        26.45000076,  25.25      ,  25.45000076,  25.        ,\n",
       "        24.64999962,  24.70000076,  24.75      ,  25.14999962,\n",
       "        25.89999962,  25.79999924,  25.95000076,  24.60000038,\n",
       "        25.54999924,  25.85000038,  24.89999962,  24.35000038,\n",
       "        24.95000076,  24.39999962,  25.20000076,  24.29999924,\n",
       "        25.29999924,  25.39999962,  25.5       ,  24.20000076,\n",
       "        25.04999924,  25.35000038,  25.60000038,  25.64999962,\n",
       "        26.60000038,  25.10000038,  25.75      ,  25.70000076,\n",
       "        24.54999924,  24.5       ,  24.45000076,  24.25      ,\n",
       "        24.14999962,  24.10000038,  26.        ], dtype=float32)"
      ]
     },
     "execution_count": 28,
     "metadata": {},
     "output_type": "execute_result"
    }
   ],
   "source": [
    "dt"
   ]
  },
  {
   "cell_type": "code",
   "execution_count": 53,
   "metadata": {},
   "outputs": [
    {
     "data": {
      "text/plain": [
       "Metadata\n",
       "{'analyst': 'sanidas',\n",
       " 'bandwidth': 31.640621759999998,\n",
       " 'barycentered': True,\n",
       " 'basename': 'L611408_SAP0_BEAM20_DM25.35',\n",
       " 'bdiam': 3600.0,\n",
       " 'best_dm': 25.350000000000001,\n",
       " 'best_period': 0.99586117,\n",
       " 'best_snr': 13.335054,\n",
       " 'best_width': 13,\n",
       " 'breaks': True,\n",
       " 'cbw': 0.012207030000000001,\n",
       " 'decj': '52:04:43.0000',\n",
       " 'dm': 25.350000000000001,\n",
       " 'fbot': 119.433595369,\n",
       " 'instrument': 'Unknown',\n",
       " 'mjd': 58027.531233000489,\n",
       " 'nchan': 2592,\n",
       " 'nsamp': 7392000,\n",
       " 'observer': 'unset',\n",
       " 'obstype': 'Radio',\n",
       " 'onoff': array([[7391999, 7391999],\n",
       "       [      0, 7308040]]),\n",
       " 'raj': '14:26:36.0000',\n",
       " 'skycoord': <SkyCoord (ICRS): (ra, dec) in deg\n",
       "    ( 216.65,  52.07861111)>,\n",
       " 'source': 'LOTAAS-P1818C-SAP0',\n",
       " 'source_name': 'LOTAAS-P1818C-SAP0',\n",
       " 'telescope': 'LOFAR',\n",
       " 'tobs': 3633.3157103508693,\n",
       " 'tsamp': 0.00049151998246088602}"
      ]
     },
     "execution_count": 53,
     "metadata": {},
     "output_type": "execute_result"
    }
   ],
   "source": [
    "cand.metadata"
   ]
  },
  {
   "cell_type": "code",
   "execution_count": null,
   "metadata": {
    "collapsed": true
   },
   "outputs": [],
   "source": []
  }
 ],
 "metadata": {
  "kernelspec": {
   "display_name": "Python [conda root]",
   "language": "python",
   "name": "conda-root-py"
  },
  "language_info": {
   "codemirror_mode": {
    "name": "ipython",
    "version": 3
   },
   "file_extension": ".py",
   "mimetype": "text/x-python",
   "name": "python",
   "nbconvert_exporter": "python",
   "pygments_lexer": "ipython3",
   "version": "3.5.4"
  }
 },
 "nbformat": 4,
 "nbformat_minor": 2
}
